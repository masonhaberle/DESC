{
 "cells": [
  {
   "cell_type": "code",
   "execution_count": 2,
   "id": "dba2f830-2d94-425b-a943-50b65c49141c",
   "metadata": {},
   "outputs": [
    {
     "name": "stdout",
     "output_type": "stream",
     "text": [
      "466.55555555555554\n"
     ]
    }
   ],
   "source": [
    "from random import random\n",
    "\n",
    "Qinit = [[[2,3],[4,1]],[[2,-3],[-6,-1]]]\n",
    "Q = [[[0,0],[0,0]],[[0,0],[0,0]]]\n",
    "for i in range(2):\n",
    "    for j in range(2):\n",
    "        for k in range(2):\n",
    "            Q[i][j][k] = 1/2 * (Qinit[i][j][k] + Qinit[i][k][j])\n",
    "\n",
    "Qs = [[[0,0],[0,0]],[[0,0],[0,0]]]\n",
    "Qm = [[[0,0],[0,0]],[[0,0],[0,0]]]\n",
    "Qtild = [[[[0,0],[0,0]],[[0,0],[0,0]]],[[[0,0],[0,0]],[[0,0],[0,0]]]]\n",
    "\n",
    "for i in range(2):\n",
    "    for j in range(2):\n",
    "        for k in range(2):\n",
    "            Qs[i][j][k] = 1/3 * (Q[i][j][k] + Q[j][i][k] + Q[k][j][i])\n",
    "            Qm[i][j][k] = 1/3 * (2*Q[i][j][k] - Q[j][i][k] - Q[k][j][i])\n",
    "\n",
    "for j in range(2):\n",
    "    for k in range(2):\n",
    "        for l in range(2):\n",
    "            for m in range(2):\n",
    "                Qtild[j][k][l][m] = Qs[0][j][k] * Qm[0][l][m] + Qs[1][j][k] * Qm[1][l][m]\n",
    "\n",
    "y = [3, -2]\n",
    "\n",
    "result = 0\n",
    "for j in range(2):\n",
    "    for k in range(2):\n",
    "        for l in range(2):\n",
    "            for m in range(2):\n",
    "                result += Qtild[j][k][l][m] * y[j] * y[k] * y[l] * y[m]\n",
    "\n",
    "print(result)\n"
   ]
  }
 ],
 "metadata": {
  "kernelspec": {
   "display_name": "Python 3 (ipykernel)",
   "language": "python",
   "name": "python3"
  },
  "language_info": {
   "codemirror_mode": {
    "name": "ipython",
    "version": 3
   },
   "file_extension": ".py",
   "mimetype": "text/x-python",
   "name": "python",
   "nbconvert_exporter": "python",
   "pygments_lexer": "ipython3",
   "version": "3.10.12"
  }
 },
 "nbformat": 4,
 "nbformat_minor": 5
}
