{
 "cells": [
  {
   "cell_type": "code",
   "execution_count": 1,
   "id": "fa39e1a8-c446-42e5-a3d5-a068c24d0e0f",
   "metadata": {},
   "outputs": [
    {
     "name": "stderr",
     "output_type": "stream",
     "text": [
      "ERROR:2025-06-19 10:23:17,019:jax._src.xla_bridge:629: Jax plugin configuration error: Exception when calling jax_plugins.xla_cuda12.initialize()\n",
      "Traceback (most recent call last):\n",
      "  File \"/home/ryc/.local/lib/python3.10/site-packages/jax/_src/xla_bridge.py\", line 627, in discover_pjrt_plugins\n",
      "    plugin_module.initialize()\n",
      "  File \"/home/ryc/.local/lib/python3.10/site-packages/jax_plugins/xla_cuda12/__init__.py\", line 256, in initialize\n",
      "    triton.register_compilation_handler(\n",
      "AttributeError: module 'jax._src.lib.triton' has no attribute 'register_compilation_handler'\n"
     ]
    },
    {
     "name": "stdout",
     "output_type": "stream",
     "text": [
      "Couldn't make gpu work\n",
      "Using device: CPU, with 6.50 GB available memory\n"
     ]
    }
   ],
   "source": [
    "import numpy as np\n",
    "import matplotlib.pyplot as plt\n",
    "import desc.io\n",
    "from desc.grid import LinearGrid, ConcentricGrid\n",
    "from desc.objectives import (\n",
    "    ObjectiveFunction,\n",
    "    FixBoundaryR,\n",
    "    FixBoundaryZ,\n",
    "    FixModeR,\n",
    "    FixModeZ,\n",
    "    FixPressure,\n",
    "    FixCurrent,\n",
    "    FixIota,\n",
    "    FixPsi,\n",
    "    AspectRatio,\n",
    "    ForceBalance,\n",
    "    QuasisymmetryTwoTerm,\n",
    "    RotationalTransform\n",
    ")\n",
    "from desc.optimize import Optimizer\n",
    "from desc.plotting import (\n",
    "    plot_grid,\n",
    "    plot_boozer_modes,\n",
    "    plot_boozer_surface,\n",
    "    plot_qs_error,\n",
    "    plot_boundaries,\n",
    "    plot_boundary,\n",
    "    plot_3d\n",
    ")\n",
    "\n",
    "from desc.equilibrium import Equilibrium\n",
    "from desc.geometry import FourierRZToroidalSurface\n",
    "from desc.profiles import PowerSeriesProfile"
   ]
  },
  {
   "cell_type": "code",
   "execution_count": 2,
   "id": "e9cb4518-1a2b-45c0-badf-e5c64af51a1b",
   "metadata": {},
   "outputs": [],
   "source": [
    "eq_fam = desc.io.load(\"inputs/lpQH.h5\")\n",
    "eq_init = eq_fam[-1]\n",
    "eq_qs = eq_init.copy()\n",
    "\n",
    "grid_vol = LinearGrid(\n",
    "    M=eq_qs.M_grid,\n",
    "    N=eq_qs.N_grid,\n",
    "    NFP=eq_qs.NFP,\n",
    "    rho=np.arange(0.1,1.1,0.1),\n",
    "    sym=eq_qs.sym\n",
    ")"
   ]
  },
  {
   "cell_type": "code",
   "execution_count": null,
   "id": "b92030db-8777-46b0-b6c3-5cdf9ae7919f",
   "metadata": {
    "scrolled": true
   },
   "outputs": [
    {
     "name": "stdout",
     "output_type": "stream",
     "text": [
      "Building objective: aspect ratio\n",
      "Precomputing transforms\n",
      "Timer: Precomputing transforms = 859 ms\n",
      "Timer: Objective build = 916 ms\n",
      "Building objective: lcfs R\n",
      "Building objective: lcfs Z\n",
      "Building objective: fix mode R\n",
      "Building objective: fix mode Z\n",
      "Building objective: fixed pressure\n",
      "Building objective: fixed Psi\n",
      "Building objective: fixed current\n",
      "Building objective: self_consistency R\n",
      "Building objective: self_consistency Z\n",
      "Building objective: lambda gauge\n",
      "Building objective: axis R self consistency\n",
      "Building objective: axis Z self consistency\n",
      "Timer: Objective build = 5.05 sec\n",
      "Timer: Linear constraint projection build = 3.92 sec\n",
      "Number of parameters: 312\n",
      "Number of objectives: 1\n",
      "Starting optimization\n",
      "Using method: Turbo1\n",
      "Using dtype = torch.float64 \n",
      "Using device = cpu\n",
      "Initial trust region: length_init=0.8, length_min=0.0078125, length_max=12.8\n",
      "Starting from fbest = 0.8351, log(fbest) = -0.1802\n",
      "Initial loss:  1.4190639016431548\n"
     ]
    }
   ],
   "source": [
    "eq_qs = eq_init.copy()\n",
    "optimizer = Optimizer(\"Turbo1\")\n",
    "\n",
    "for maxMode in range(1,2):\n",
    "    fixed_R_modes = np.vstack(([0,0,0], eq_qs.surface.R_basis.modes[np.max(np.abs(eq_qs.surface.R_basis.modes), 1) > maxMode, :]))\n",
    "    \n",
    "    fixed_Z_modes = eq_qs.surface.Z_basis.modes[np.max(np.abs(eq_qs.surface.Z_basis.modes), 1) > maxMode, :]\n",
    "    maxModeInt = maxMode\n",
    "\n",
    "    #Attempt to fix interior\n",
    "    fixed_R_modes_int = eq_qs.R_basis.modes[np.max(np.abs(eq_qs.R_basis.modes), 1) > maxModeInt, :]\n",
    "    fixed_Z_modes_int = eq_qs.Z_basis.modes[np.max(np.abs(eq_qs.Z_basis.modes), 1) > maxModeInt, :]\n",
    "\n",
    "    \n",
    "    constWeight = 10\n",
    "    \n",
    "    objective_f = ObjectiveFunction((\n",
    "        AspectRatio(eq=eq_qs, target=6, weight=1),\n",
    "        #ForceBalance(eq=eq_qs, weight=10),\n",
    "    ))\n",
    "    \n",
    "    constraints = (\n",
    "        FixBoundaryR(eq=eq_qs, modes=fixed_R_modes),\n",
    "        FixBoundaryZ(eq=eq_qs, modes=fixed_Z_modes),\n",
    "        FixModeR(eq=eq_qs, modes=fixed_R_modes_int),\n",
    "        FixModeZ(eq=eq_qs, modes=fixed_Z_modes_int),\n",
    "        FixPressure(eq=eq_qs),\n",
    "        FixPsi(eq=eq_qs),\n",
    "        FixCurrent(eq=eq_qs),\n",
    "    )    \n",
    "    \n",
    "    global_eq_qs, result = eq_qs.optimize(\n",
    "        objective=objective_f,\n",
    "        constraints=constraints,\n",
    "        optimizer=optimizer,\n",
    "        copy=True,\n",
    "        verbose=2,\n",
    "        maxiter=500,\n",
    "        options={\"trust_regions\":1, \"box_size\":1e-1, \"training_steps\": 50, \"batch_size\":100}\n",
    "    )"
   ]
  },
  {
   "cell_type": "code",
   "execution_count": null,
   "id": "eaad8565-b4be-4e2c-bdf1-582d32a9bfd7",
   "metadata": {},
   "outputs": [],
   "source": [
    "'''print(objective_f.compute_scalar(result.allx[np.argmin(result.allfun)]))\n",
    "print(np.shape(result.x), np.shape(result.allx[-1]), np.shape(result.allx))\n",
    "print(result.allx[0][np.abs(result.allx[0]) > 1e-6])\n",
    "print(result.allx[-1][np.abs(result.allx[-1]) > 1e-6])'''"
   ]
  },
  {
   "cell_type": "code",
   "execution_count": null,
   "id": "a283ed9c-c76a-4f35-8db8-cbed5669efd6",
   "metadata": {},
   "outputs": [],
   "source": [
    "plot_boundary(global_eq_qs, figsize=(6,6))\n",
    "plot_boozer_surface(global_eq_qs, figsize=(6,6))\n",
    "plot_3d(global_eq_qs, \"|B|\", figsize=(6,6))"
   ]
  },
  {
   "cell_type": "code",
   "execution_count": null,
   "id": "57574c5b-f54b-4a26-94eb-ec5151dad1e8",
   "metadata": {},
   "outputs": [],
   "source": [
    "objective_f.print_value(result.allx[np.argmin(result.allfun)])"
   ]
  },
  {
   "cell_type": "code",
   "execution_count": null,
   "id": "13bec8ce-778b-40bf-9f30-9533e1c317f5",
   "metadata": {},
   "outputs": [],
   "source": [
    "eq_qs = eq_init.copy()\n",
    "optimizer = Optimizer(\"lsq-exact\")\n",
    "\n",
    "for maxMode in range(2,3):\n",
    "    fixed_R_modes = np.vstack(([0,0,0], eq_qs.surface.R_basis.modes[np.max(np.abs(eq_qs.surface.R_basis.modes), 1) > maxMode, :]))\n",
    "    \n",
    "    fixed_Z_modes = eq_qs.surface.Z_basis.modes[np.max(np.abs(eq_qs.surface.Z_basis.modes), 1) > maxMode, :]\n",
    "    maxModeInt = maxMode\n",
    "\n",
    "    #Attempt to fix interior\n",
    "    fixed_R_modes_int = eq_qs.R_basis.modes[np.max(np.abs(eq_qs.R_basis.modes), 1) > maxModeInt, :]\n",
    "    fixed_Z_modes_int = eq_qs.Z_basis.modes[np.max(np.abs(eq_qs.Z_basis.modes), 1) > maxModeInt, :]\n",
    "\n",
    "    \n",
    "    constWeight = 10\n",
    "    \n",
    "    objective_f = ObjectiveFunction((\n",
    "        AspectRatio(eq=eq_qs, target=6, weight=1),\n",
    "        ForceBalance(eq=eq_qs, weight=10),\n",
    "    ))\n",
    "    \n",
    "    constraints = (\n",
    "        FixBoundaryR(eq=eq_qs, modes=fixed_R_modes),\n",
    "        FixBoundaryZ(eq=eq_qs, modes=fixed_Z_modes),\n",
    "        FixModeR(eq=eq_qs, modes=fixed_R_modes_int),\n",
    "        FixModeZ(eq=eq_qs, modes=fixed_Z_modes_int),\n",
    "        FixPressure(eq=eq_qs),\n",
    "        FixPsi(eq=eq_qs),\n",
    "        FixCurrent(eq=eq_qs),\n",
    "    )    \n",
    "    eq_qs, result = eq_qs.optimize(\n",
    "        objective=objective_f,\n",
    "        constraints=constraints,\n",
    "        optimizer=optimizer,\n",
    "        copy=True,\n",
    "        verbose=2,\n",
    "        maxiter=20,\n",
    "        options={}\n",
    "    )"
   ]
  },
  {
   "cell_type": "code",
   "execution_count": null,
   "id": "0af88db5-5753-4970-a5d5-b0126c88ce69",
   "metadata": {
    "scrolled": true
   },
   "outputs": [],
   "source": [
    "print(result.x.shape, result.allx[-1].shape)\n",
    "print(objective_f.compute_scalar(result.allx[-1]))\n",
    "# print(result.allx[-1])\n",
    "x_temp = np.array(result.allx[-1])\n",
    "# print(x_temp)\n",
    "x_temp[np.abs(x_temp) < 1e-8] = 0.0\n",
    "print(x_temp[np.abs(x_temp) > 1e-6])\n",
    "print(objective_f.compute_scalar(x_temp))"
   ]
  },
  {
   "cell_type": "code",
   "execution_count": null,
   "id": "017b90ce-cf68-4faf-b73d-5d3c064c4a24",
   "metadata": {},
   "outputs": [],
   "source": [
    "plot_boundary(eq_qs, figsize=(6,6))\n",
    "plot_boozer_surface(eq_qs, figsize=(6,6))\n",
    "plot_3d(eq_qs, \"|B|\", figsize=(6,6))"
   ]
  }
 ],
 "metadata": {
  "kernelspec": {
   "display_name": "Python 3 (ipykernel)",
   "language": "python",
   "name": "python3"
  },
  "language_info": {
   "codemirror_mode": {
    "name": "ipython",
    "version": 3
   },
   "file_extension": ".py",
   "mimetype": "text/x-python",
   "name": "python",
   "nbconvert_exporter": "python",
   "pygments_lexer": "ipython3",
   "version": "3.13.4"
  }
 },
 "nbformat": 4,
 "nbformat_minor": 5
}
