{
 "cells": [
  {
   "cell_type": "code",
   "execution_count": null,
   "id": "e3bcb687-c0a7-4dce-a862-423d01754d8a",
   "metadata": {},
   "outputs": [],
   "source": [
    "import sys\n",
    "import os\n",
    "import matplotlib.pyplot as plt\n",
    "import numpy as np\n",
    "\n",
    "import plotly.express as px\n",
    "import plotly.io as pio\n",
    "\n",
    "import desc.io\n",
    "from desc.grid import LinearGrid\n",
    "from desc.plotting import (\n",
    "    plot_grid,\n",
    "    plot_boozer_modes,\n",
    "    plot_boozer_surface,\n",
    "    plot_qs_error,\n",
    "    plot_boundaries,\n",
    "    plot_boundary,\n",
    "    plot_3d\n",
    ")\n",
    "\n",
    "folder = \"Output_T300_B1_M2\"\n",
    "path = os.path.join(folder, \"eq_result.h5\")\n",
    "eq = desc.io.load(path)"
   ]
  },
  {
   "cell_type": "code",
   "execution_count": null,
   "id": "40c5e1a8-99a3-4006-8a48-96e7d9396dd7",
   "metadata": {},
   "outputs": [],
   "source": [
    "grid = LinearGrid(\n",
    "    rho=1,\n",
    "    theta=np.linspace(0, 2 * np.pi, 300),\n",
    "    zeta=np.linspace(0, 2 * np.pi, 300),\n",
    "    sym=False,\n",
    ")\n",
    "\n",
    "fig = plot_3d(eq, \"|B|\", grid=grid, figsize=(5,5))\n",
    "fig.show()"
   ]
  },
  {
   "cell_type": "code",
   "execution_count": null,
   "id": "6bff8f17-8363-41f8-881b-b2c3a2dab1de",
   "metadata": {},
   "outputs": [],
   "source": [
    "path = os.path.join(folder, \"obj_history.txt\")\n",
    "objectives = []\n",
    "maxval = 100000\n",
    "with open(path) as obj_history:\n",
    "    for line in obj_history:\n",
    "        val = float(line)\n",
    "        val = min(val, maxval)\n",
    "        objectives.append(val)\n",
    "\n",
    "plt.plot(objectives)"
   ]
  },
  {
   "cell_type": "code",
   "execution_count": null,
   "id": "e1807c3e-aa89-4d2b-bb0b-b976a52df575",
   "metadata": {},
   "outputs": [],
   "source": []
  }
 ],
 "metadata": {
  "kernelspec": {
   "display_name": "Python 3 (ipykernel)",
   "language": "python",
   "name": "python3"
  },
  "language_info": {
   "codemirror_mode": {
    "name": "ipython",
    "version": 3
   },
   "file_extension": ".py",
   "mimetype": "text/x-python",
   "name": "python",
   "nbconvert_exporter": "python",
   "pygments_lexer": "ipython3",
   "version": "3.13.5"
  }
 },
 "nbformat": 4,
 "nbformat_minor": 5
}
