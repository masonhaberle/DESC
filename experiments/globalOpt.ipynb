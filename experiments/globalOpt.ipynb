{
 "cells": [
  {
   "cell_type": "code",
   "execution_count": 1,
   "id": "3cc83f3b-8e74-4595-947a-1ade352c8641",
   "metadata": {},
   "outputs": [
    {
     "name": "stderr",
     "output_type": "stream",
     "text": [
      "An NVIDIA GPU may be present on this machine, but a CUDA-enabled jaxlib is not installed. Falling back to cpu.\n"
     ]
    },
    {
     "name": "stdout",
     "output_type": "stream",
     "text": [
      "DESC version 0+untagged.9458.g5c309d8.dirty,using JAX backend, jax version=0.4.28, jaxlib version=0.4.28, dtype=float64\n",
      "Using device: CPU, with 5.43 GB available memory\n"
     ]
    }
   ],
   "source": [
    "import numpy as np\n",
    "import matplotlib.pyplot as plt\n",
    "import desc.io\n",
    "from desc.grid import LinearGrid, ConcentricGrid\n",
    "from desc.objectives import (\n",
    "    ObjectiveFunction,\n",
    "    FixBoundaryR,\n",
    "    FixBoundaryZ,\n",
    "    FixPressure,\n",
    "    FixCurrent,\n",
    "    FixIota,\n",
    "    FixPsi,\n",
    "    AspectRatio,\n",
    "    ForceBalance,\n",
    "    QuasisymmetryTwoTerm,\n",
    "    RotationalTransform\n",
    ")\n",
    "from desc.optimize import Optimizer\n",
    "from desc.plotting import (\n",
    "    plot_grid,\n",
    "    plot_boozer_modes,\n",
    "    plot_boozer_surface,\n",
    "    plot_qs_error,\n",
    "    plot_boundaries,\n",
    "    plot_boundary\n",
    ")"
   ]
  },
  {
   "cell_type": "code",
   "execution_count": 2,
   "id": "34ef976c-2faf-4a10-8e79-d7cd47b9988b",
   "metadata": {},
   "outputs": [
    {
     "data": {
      "text/plain": [
       "'idx_Rcc = eq_init.surface.R_basis.get_idx(M=1, N=2)\\nidx_Rss = eq_init.surface.R_basis.get_idx(M=-1, N=-2)\\n\\nidx_Zsc = eq_init.surface.Z_basis.get_idx(M=-1, N=2)\\nidx_Zcs = eq_init.surface.Z_basis.get_idx(M=1, N=-2)\\n\\nR_modes = np.delete(eq_init.surface.R_basis.modes, [idx_Rcc, idx_Rss], axis=0)\\nZ_modes = np.delete(eq_init.surface.Z_basis.modes, [idx_Zsc, idx_Zcs], axis=0)'"
      ]
     },
     "execution_count": 2,
     "metadata": {},
     "output_type": "execute_result"
    }
   ],
   "source": [
    "eq_fam = desc.io.load(\"inputs/nfp2_QA.h5\")\n",
    "eq_init = eq_fam[-1]\n",
    "eq_qs = eq_init.copy()\n",
    "\n",
    "'''idx_Rcc = eq_init.surface.R_basis.get_idx(M=1, N=2)\n",
    "idx_Rss = eq_init.surface.R_basis.get_idx(M=-1, N=-2)\n",
    "\n",
    "idx_Zsc = eq_init.surface.Z_basis.get_idx(M=-1, N=2)\n",
    "idx_Zcs = eq_init.surface.Z_basis.get_idx(M=1, N=-2)\n",
    "\n",
    "R_modes = np.delete(eq_init.surface.R_basis.modes, [idx_Rcc, idx_Rss], axis=0)\n",
    "Z_modes = np.delete(eq_init.surface.Z_basis.modes, [idx_Zsc, idx_Zcs], axis=0)'''\n"
   ]
  },
  {
   "cell_type": "code",
   "execution_count": 3,
   "id": "7b662c62-9191-4012-9d32-c5c488cc2653",
   "metadata": {},
   "outputs": [],
   "source": [
    "optimizer = Optimizer(\"pdfo\")\n",
    "\n",
    "grid_vol = ConcentricGrid(\n",
    "    L=eq_init.L_grid,\n",
    "    M=eq_init.M_grid,\n",
    "    N=eq_init.N_grid,\n",
    "    NFP=eq_init.NFP,\n",
    "    sym=eq_init.sym\n",
    ")"
   ]
  },
  {
   "cell_type": "code",
   "execution_count": 4,
   "id": "8740f4fc-9a30-41e0-94a2-3e095848e4bd",
   "metadata": {},
   "outputs": [
    {
     "name": "stdout",
     "output_type": "stream",
     "text": [
      "Building objective: QS two-term\n",
      "Precomputing transforms\n",
      "Timer: Precomputing transforms = 1.11 sec\n",
      "Building objective: aspect ratio\n",
      "Precomputing transforms\n",
      "Timer: Precomputing transforms = 33.3 ms\n",
      "Building objective: rotational transform\n",
      "Precomputing transforms\n",
      "Timer: Precomputing transforms = 178 ms\n",
      "Timer: Objective build = 4.80 sec\n",
      "Building objective: lcfs R\n",
      "Building objective: lcfs Z\n",
      "Building objective: fixed pressure\n",
      "Building objective: fixed current\n",
      "Building objective: fixed Psi\n",
      "Building objective: self_consistency R\n",
      "Building objective: self_consistency Z\n",
      "Building objective: lambda gauge\n",
      "Building objective: axis R self consistency\n",
      "Building objective: axis Z self consistency\n",
      "Timer: Objective build = 1.91 sec\n",
      "Building objective: force\n",
      "Precomputing transforms\n",
      "Timer: Precomputing transforms = 304 ms\n",
      "Timer: Objective build = 490 ms\n",
      "Timer: Linear constraint projection build = 3.13 sec\n",
      "Timer: Linear constraint projection build = 35.6 ms\n",
      "Number of parameters: 155\n",
      "Number of objectives: 535\n",
      "Number of equality constraints: 1050\n",
      "Number of inequality constraints: 0\n",
      "Starting optimization\n",
      "Using method: pdfo\n"
     ]
    },
    {
     "name": "stderr",
     "output_type": "stream",
     "text": [
      "/home/ryc/.local/lib/python3.10/site-packages/pdfo/_common.py:1637: Warning: pdfo: invalid maxfev; it should be a positive integer at least n+2; it is set to n+2.\n",
      "  warnings.warn(warn_message, Warning)\n"
     ]
    },
    {
     "ename": "ValueError",
     "evalue": "assignment destination is read-only",
     "output_type": "error",
     "traceback": [
      "\u001b[0;31m---------------------------------------------------------------------------\u001b[0m",
      "\u001b[0;31mValueError\u001b[0m                                Traceback (most recent call last)",
      "Cell \u001b[0;32mIn[4], line 20\u001b[0m\n\u001b[1;32m      9\u001b[0m Z_modes \u001b[38;5;241m=\u001b[39m eq_qs\u001b[38;5;241m.\u001b[39msurface\u001b[38;5;241m.\u001b[39mZ_basis\u001b[38;5;241m.\u001b[39mmodes[np\u001b[38;5;241m.\u001b[39mmax(np\u001b[38;5;241m.\u001b[39mabs(eq_qs\u001b[38;5;241m.\u001b[39msurface\u001b[38;5;241m.\u001b[39mZ_basis\u001b[38;5;241m.\u001b[39mmodes), \u001b[38;5;241m1\u001b[39m) \u001b[38;5;241m>\u001b[39m maxMode, :]\n\u001b[1;32m     11\u001b[0m constraints \u001b[38;5;241m=\u001b[39m (\n\u001b[1;32m     12\u001b[0m     ForceBalance(eq\u001b[38;5;241m=\u001b[39meq_qs),\n\u001b[1;32m     13\u001b[0m     FixBoundaryR(eq\u001b[38;5;241m=\u001b[39meq_qs, modes\u001b[38;5;241m=\u001b[39mR_modes),\n\u001b[0;32m   (...)\u001b[0m\n\u001b[1;32m     17\u001b[0m     FixPsi(eq\u001b[38;5;241m=\u001b[39meq_qs)\n\u001b[1;32m     18\u001b[0m )\n\u001b[0;32m---> 20\u001b[0m eq_qs, result \u001b[38;5;241m=\u001b[39m \u001b[43meq_qs\u001b[49m\u001b[38;5;241;43m.\u001b[39;49m\u001b[43moptimize\u001b[49m\u001b[43m(\u001b[49m\n\u001b[1;32m     21\u001b[0m \u001b[43m    \u001b[49m\u001b[43mobjective\u001b[49m\u001b[38;5;241;43m=\u001b[39;49m\u001b[43mobjective_f\u001b[49m\u001b[43m,\u001b[49m\n\u001b[1;32m     22\u001b[0m \u001b[43m    \u001b[49m\u001b[43mconstraints\u001b[49m\u001b[38;5;241;43m=\u001b[39;49m\u001b[43mconstraints\u001b[49m\u001b[43m,\u001b[49m\n\u001b[1;32m     23\u001b[0m \u001b[43m    \u001b[49m\u001b[43moptimizer\u001b[49m\u001b[38;5;241;43m=\u001b[39;49m\u001b[43moptimizer\u001b[49m\u001b[43m,\u001b[49m\n\u001b[1;32m     24\u001b[0m \u001b[43m    \u001b[49m\u001b[43mmaxiter\u001b[49m\u001b[38;5;241;43m=\u001b[39;49m\u001b[38;5;241;43m20\u001b[39;49m\u001b[43m,\u001b[49m\n\u001b[1;32m     25\u001b[0m \u001b[43m    \u001b[49m\u001b[43mcopy\u001b[49m\u001b[38;5;241;43m=\u001b[39;49m\u001b[38;5;28;43;01mTrue\u001b[39;49;00m\u001b[43m,\u001b[49m\n\u001b[1;32m     26\u001b[0m \u001b[43m    \u001b[49m\u001b[43mverbose\u001b[49m\u001b[38;5;241;43m=\u001b[39;49m\u001b[38;5;241;43m2\u001b[39;49m\n\u001b[1;32m     27\u001b[0m \u001b[43m\u001b[49m\u001b[43m)\u001b[49m\n\u001b[1;32m     29\u001b[0m plot_boundary(eq_qs, figsize\u001b[38;5;241m=\u001b[39m(\u001b[38;5;241m8\u001b[39m,\u001b[38;5;241m8\u001b[39m))\n\u001b[1;32m     30\u001b[0m plot_boozer_surface(eq_qs, figsize\u001b[38;5;241m=\u001b[39m(\u001b[38;5;241m8\u001b[39m,\u001b[38;5;241m8\u001b[39m))\n",
      "File \u001b[0;32m~/DESC/desc/equilibrium/equilibrium.py:2137\u001b[0m, in \u001b[0;36mEquilibrium.optimize\u001b[0;34m(self, objective, constraints, optimizer, ftol, xtol, gtol, ctol, maxiter, x_scale, options, verbose, copy)\u001b[0m\n\u001b[1;32m   2134\u001b[0m \u001b[38;5;28;01mif\u001b[39;00m \u001b[38;5;129;01mnot\u001b[39;00m \u001b[38;5;28misinstance\u001b[39m(constraints, (\u001b[38;5;28mlist\u001b[39m, \u001b[38;5;28mtuple\u001b[39m)):\n\u001b[1;32m   2135\u001b[0m     constraints \u001b[38;5;241m=\u001b[39m \u001b[38;5;28mtuple\u001b[39m([constraints])\n\u001b[0;32m-> 2137\u001b[0m things, result \u001b[38;5;241m=\u001b[39m \u001b[43moptimizer\u001b[49m\u001b[38;5;241;43m.\u001b[39;49m\u001b[43moptimize\u001b[49m\u001b[43m(\u001b[49m\n\u001b[1;32m   2138\u001b[0m \u001b[43m    \u001b[49m\u001b[38;5;28;43mself\u001b[39;49m\u001b[43m,\u001b[49m\n\u001b[1;32m   2139\u001b[0m \u001b[43m    \u001b[49m\u001b[43mobjective\u001b[49m\u001b[43m,\u001b[49m\n\u001b[1;32m   2140\u001b[0m \u001b[43m    \u001b[49m\u001b[43mconstraints\u001b[49m\u001b[43m,\u001b[49m\n\u001b[1;32m   2141\u001b[0m \u001b[43m    \u001b[49m\u001b[43mftol\u001b[49m\u001b[38;5;241;43m=\u001b[39;49m\u001b[43mftol\u001b[49m\u001b[43m,\u001b[49m\n\u001b[1;32m   2142\u001b[0m \u001b[43m    \u001b[49m\u001b[43mxtol\u001b[49m\u001b[38;5;241;43m=\u001b[39;49m\u001b[43mxtol\u001b[49m\u001b[43m,\u001b[49m\n\u001b[1;32m   2143\u001b[0m \u001b[43m    \u001b[49m\u001b[43mgtol\u001b[49m\u001b[38;5;241;43m=\u001b[39;49m\u001b[43mgtol\u001b[49m\u001b[43m,\u001b[49m\n\u001b[1;32m   2144\u001b[0m \u001b[43m    \u001b[49m\u001b[43mctol\u001b[49m\u001b[38;5;241;43m=\u001b[39;49m\u001b[43mctol\u001b[49m\u001b[43m,\u001b[49m\n\u001b[1;32m   2145\u001b[0m \u001b[43m    \u001b[49m\u001b[43mx_scale\u001b[49m\u001b[38;5;241;43m=\u001b[39;49m\u001b[43mx_scale\u001b[49m\u001b[43m,\u001b[49m\n\u001b[1;32m   2146\u001b[0m \u001b[43m    \u001b[49m\u001b[43mverbose\u001b[49m\u001b[38;5;241;43m=\u001b[39;49m\u001b[43mverbose\u001b[49m\u001b[43m,\u001b[49m\n\u001b[1;32m   2147\u001b[0m \u001b[43m    \u001b[49m\u001b[43mmaxiter\u001b[49m\u001b[38;5;241;43m=\u001b[39;49m\u001b[43mmaxiter\u001b[49m\u001b[43m,\u001b[49m\n\u001b[1;32m   2148\u001b[0m \u001b[43m    \u001b[49m\u001b[43moptions\u001b[49m\u001b[38;5;241;43m=\u001b[39;49m\u001b[43moptions\u001b[49m\u001b[43m,\u001b[49m\n\u001b[1;32m   2149\u001b[0m \u001b[43m    \u001b[49m\u001b[43mcopy\u001b[49m\u001b[38;5;241;43m=\u001b[39;49m\u001b[43mcopy\u001b[49m\u001b[43m,\u001b[49m\n\u001b[1;32m   2150\u001b[0m \u001b[43m\u001b[49m\u001b[43m)\u001b[49m\n\u001b[1;32m   2152\u001b[0m \u001b[38;5;28;01mreturn\u001b[39;00m things[\u001b[38;5;241m0\u001b[39m], result\n",
      "File \u001b[0;32m~/DESC/desc/optimize/optimizer.py:306\u001b[0m, in \u001b[0;36mOptimizer.optimize\u001b[0;34m(self, things, objective, constraints, ftol, xtol, gtol, ctol, x_scale, verbose, maxiter, options, copy)\u001b[0m\n\u001b[1;32m    302\u001b[0m     \u001b[38;5;28mprint\u001b[39m(\u001b[38;5;124m\"\u001b[39m\u001b[38;5;124mUsing method: \u001b[39m\u001b[38;5;124m\"\u001b[39m \u001b[38;5;241m+\u001b[39m \u001b[38;5;28mstr\u001b[39m(\u001b[38;5;28mself\u001b[39m\u001b[38;5;241m.\u001b[39mmethod))\n\u001b[1;32m    304\u001b[0m timer\u001b[38;5;241m.\u001b[39mstart(\u001b[38;5;124m\"\u001b[39m\u001b[38;5;124mSolution time\u001b[39m\u001b[38;5;124m\"\u001b[39m)\n\u001b[0;32m--> 306\u001b[0m result \u001b[38;5;241m=\u001b[39m \u001b[43moptimizers\u001b[49m\u001b[43m[\u001b[49m\u001b[43mmethod\u001b[49m\u001b[43m]\u001b[49m\u001b[43m[\u001b[49m\u001b[38;5;124;43m\"\u001b[39;49m\u001b[38;5;124;43mfun\u001b[39;49m\u001b[38;5;124;43m\"\u001b[39;49m\u001b[43m]\u001b[49m\u001b[43m(\u001b[49m\n\u001b[1;32m    307\u001b[0m \u001b[43m    \u001b[49m\u001b[43mobjective\u001b[49m\u001b[43m,\u001b[49m\n\u001b[1;32m    308\u001b[0m \u001b[43m    \u001b[49m\u001b[43mnonlinear_constraint\u001b[49m\u001b[43m,\u001b[49m\n\u001b[1;32m    309\u001b[0m \u001b[43m    \u001b[49m\u001b[43mx0\u001b[49m\u001b[43m,\u001b[49m\n\u001b[1;32m    310\u001b[0m \u001b[43m    \u001b[49m\u001b[43mmethod\u001b[49m\u001b[43m,\u001b[49m\n\u001b[1;32m    311\u001b[0m \u001b[43m    \u001b[49m\u001b[43mx_scale\u001b[49m\u001b[43m,\u001b[49m\n\u001b[1;32m    312\u001b[0m \u001b[43m    \u001b[49m\u001b[43mverbose\u001b[49m\u001b[43m,\u001b[49m\n\u001b[1;32m    313\u001b[0m \u001b[43m    \u001b[49m\u001b[43mstoptol\u001b[49m\u001b[43m,\u001b[49m\n\u001b[1;32m    314\u001b[0m \u001b[43m    \u001b[49m\u001b[43moptions\u001b[49m\u001b[43m,\u001b[49m\n\u001b[1;32m    315\u001b[0m \u001b[43m\u001b[49m\u001b[43m)\u001b[49m\n\u001b[1;32m    317\u001b[0m \u001b[38;5;28;01mif\u001b[39;00m \u001b[38;5;28misinstance\u001b[39m(objective, LinearConstraintProjection):\n\u001b[1;32m    318\u001b[0m     \u001b[38;5;66;03m# remove wrapper to get at underlying objective\u001b[39;00m\n\u001b[1;32m    319\u001b[0m     result[\u001b[38;5;124m\"\u001b[39m\u001b[38;5;124mallx\u001b[39m\u001b[38;5;124m\"\u001b[39m] \u001b[38;5;241m=\u001b[39m [objective\u001b[38;5;241m.\u001b[39mrecover(x) \u001b[38;5;28;01mfor\u001b[39;00m x \u001b[38;5;129;01min\u001b[39;00m result[\u001b[38;5;124m\"\u001b[39m\u001b[38;5;124mallx\u001b[39m\u001b[38;5;124m\"\u001b[39m]]\n",
      "File \u001b[0;32m~/DESC/desc/optimize/_desc_wrappers.py:487\u001b[0m, in \u001b[0;36m_optimize_pdfo\u001b[0;34m(objective, constraint, x0, method, x_scale, verbose, stoptol, options)\u001b[0m\n\u001b[1;32m    484\u001b[0m \u001b[38;5;28;01melse\u001b[39;00m:\n\u001b[1;32m    485\u001b[0m     constraint_wrapped \u001b[38;5;241m=\u001b[39m \u001b[38;5;28;01mNone\u001b[39;00m\n\u001b[0;32m--> 487\u001b[0m result \u001b[38;5;241m=\u001b[39m \u001b[43mpdfo\u001b[49m\u001b[43m(\u001b[49m\u001b[43mfun\u001b[49m\u001b[43m,\u001b[49m\u001b[43m \u001b[49m\u001b[43mx0\u001b[49m\u001b[38;5;241;43m=\u001b[39;49m\u001b[43mx0\u001b[49m\u001b[43m,\u001b[49m\u001b[43m \u001b[49m\u001b[43mconstraints\u001b[49m\u001b[38;5;241;43m=\u001b[39;49m\u001b[43mconstraint_wrapped\u001b[49m\u001b[43m,\u001b[49m\u001b[43m \u001b[49m\u001b[43moptions\u001b[49m\u001b[38;5;241;43m=\u001b[39;49m\u001b[43moptions\u001b[49m\u001b[43m)\u001b[49m\n\u001b[1;32m    489\u001b[0m \u001b[38;5;28;01mreturn\u001b[39;00m result\n",
      "File \u001b[0;32m~/.local/lib/python3.10/site-packages/pdfo/_pdfo.py:324\u001b[0m, in \u001b[0;36mpdfo\u001b[0;34m(fun, x0, args, method, bounds, constraints, options)\u001b[0m\n\u001b[1;32m    322\u001b[0m     \u001b[38;5;28;01melif\u001b[39;00m lower_method \u001b[38;5;241m==\u001b[39m \u001b[38;5;124m'\u001b[39m\u001b[38;5;124mcobyla\u001b[39m\u001b[38;5;124m'\u001b[39m:\n\u001b[1;32m    323\u001b[0m         \u001b[38;5;28;01mfrom\u001b[39;00m \u001b[38;5;21;01m.\u001b[39;00m \u001b[38;5;28;01mimport\u001b[39;00m cobyla\n\u001b[0;32m--> 324\u001b[0m         opti_res \u001b[38;5;241m=\u001b[39m \u001b[43mcobyla\u001b[49m\u001b[43m(\u001b[49m\u001b[43mfun_c\u001b[49m\u001b[43m,\u001b[49m\u001b[43m \u001b[49m\u001b[43mx0_c\u001b[49m\u001b[43m,\u001b[49m\u001b[43m \u001b[49m\u001b[43mbounds\u001b[49m\u001b[38;5;241;43m=\u001b[39;49m\u001b[43mbounds_c\u001b[49m\u001b[43m,\u001b[49m\u001b[43m \u001b[49m\u001b[43mconstraints\u001b[49m\u001b[38;5;241;43m=\u001b[39;49m\u001b[43mconstraints_c\u001b[49m\u001b[43m,\u001b[49m\u001b[43m \u001b[49m\u001b[43moptions\u001b[49m\u001b[38;5;241;43m=\u001b[39;49m\u001b[43moptions_c\u001b[49m\u001b[43m)\u001b[49m\n\u001b[1;32m    325\u001b[0m \u001b[38;5;28;01mexcept\u001b[39;00m \u001b[38;5;167;01mImportError\u001b[39;00m:\n\u001b[1;32m    326\u001b[0m     \u001b[38;5;28;01mfrom\u001b[39;00m \u001b[38;5;21;01m.\u001b[39;00m\u001b[38;5;21;01m_common\u001b[39;00m \u001b[38;5;28;01mimport\u001b[39;00m import_error_so\n",
      "File \u001b[0;32m~/.local/lib/python3.10/site-packages/pdfo/_cobyla.py:340\u001b[0m, in \u001b[0;36mcobyla\u001b[0;34m(fun, x0, args, bounds, constraints, options)\u001b[0m\n\u001b[1;32m    336\u001b[0m         c \u001b[38;5;241m=\u001b[39m np\u001b[38;5;241m.\u001b[39mconcatenate((c, cx))\n\u001b[1;32m    338\u001b[0m     \u001b[38;5;28;01mreturn\u001b[39;00m \u001b[38;5;241m-\u001b[39mc\n\u001b[0;32m--> 340\u001b[0m conval_x0 \u001b[38;5;241m=\u001b[39m \u001b[43mctr\u001b[49m\u001b[43m(\u001b[49m\u001b[43mx0_c\u001b[49m\u001b[43m)\u001b[49m\n\u001b[1;32m    341\u001b[0m m \u001b[38;5;241m=\u001b[39m conval_x0\u001b[38;5;241m.\u001b[39msize\n\u001b[1;32m    343\u001b[0m \u001b[38;5;66;03m# Extract the options and parameters.\u001b[39;00m\n",
      "File \u001b[0;32m~/.local/lib/python3.10/site-packages/pdfo/_cobyla.py:335\u001b[0m, in \u001b[0;36mcobyla.<locals>.ctr\u001b[0;34m(x_aug)\u001b[0m\n\u001b[1;32m    332\u001b[0m     c \u001b[38;5;241m=\u001b[39m np\u001b[38;5;241m.\u001b[39mconcatenate((c, cx))\n\u001b[1;32m    334\u001b[0m \u001b[38;5;28;01mif\u001b[39;00m constraints_c[\u001b[38;5;124m'\u001b[39m\u001b[38;5;124mnonlinear\u001b[39m\u001b[38;5;124m'\u001b[39m] \u001b[38;5;129;01mis\u001b[39;00m \u001b[38;5;129;01mnot\u001b[39;00m \u001b[38;5;28;01mNone\u001b[39;00m:\n\u001b[0;32m--> 335\u001b[0m     cx \u001b[38;5;241m=\u001b[39m \u001b[43mconstraints_c\u001b[49m\u001b[43m[\u001b[49m\u001b[38;5;124;43m'\u001b[39;49m\u001b[38;5;124;43mnonlinear\u001b[39;49m\u001b[38;5;124;43m'\u001b[39;49m\u001b[43m]\u001b[49m\u001b[43m[\u001b[49m\u001b[38;5;124;43m'\u001b[39;49m\u001b[38;5;124;43mfun\u001b[39;49m\u001b[38;5;124;43m'\u001b[39;49m\u001b[43m]\u001b[49m\u001b[43m(\u001b[49m\u001b[43mx_aug\u001b[49m\u001b[43m)\u001b[49m\n\u001b[1;32m    336\u001b[0m     c \u001b[38;5;241m=\u001b[39m np\u001b[38;5;241m.\u001b[39mconcatenate((c, cx))\n\u001b[1;32m    338\u001b[0m \u001b[38;5;28;01mreturn\u001b[39;00m \u001b[38;5;241m-\u001b[39mc\n",
      "File \u001b[0;32m~/.local/lib/python3.10/site-packages/pdfo/_common.py:1066\u001b[0m, in \u001b[0;36m_constraints_validation.<locals>.fun_nonlinear\u001b[0;34m(x, raw)\u001b[0m\n\u001b[1;32m   1063\u001b[0m constraint_x \u001b[38;5;241m=\u001b[39m np\u001b[38;5;241m.\u001b[39masarray(constraint_x, dtype\u001b[38;5;241m=\u001b[39mnp\u001b[38;5;241m.\u001b[39mfloat64)\n\u001b[1;32m   1065\u001b[0m \u001b[38;5;66;03m# Use extreme barrier to cope with the 'hidden constraints'.\u001b[39;00m\n\u001b[0;32m-> 1066\u001b[0m \u001b[43mconstraint_x\u001b[49m\u001b[43m[\u001b[49m\u001b[43mnp\u001b[49m\u001b[38;5;241;43m.\u001b[39;49m\u001b[43mlogical_or\u001b[49m\u001b[43m(\u001b[49m\u001b[43mnp\u001b[49m\u001b[38;5;241;43m.\u001b[39;49m\u001b[43misnan\u001b[49m\u001b[43m(\u001b[49m\u001b[43mconstraint_x\u001b[49m\u001b[43m)\u001b[49m\u001b[43m,\u001b[49m\u001b[43m \u001b[49m\u001b[43mconstraint_x\u001b[49m\u001b[43m \u001b[49m\u001b[38;5;241;43m>\u001b[39;49m\u001b[43m \u001b[49m\u001b[43mhugecon\u001b[49m\u001b[43m)\u001b[49m\u001b[43m]\u001b[49m \u001b[38;5;241m=\u001b[39m hugecon\n\u001b[1;32m   1068\u001b[0m \u001b[38;5;66;03m# This part is NOT extreme barrier. We replace extremely negative values of cineq (which leads to no\u001b[39;00m\n\u001b[1;32m   1069\u001b[0m \u001b[38;5;66;03m# constraint violation) by -hugecon. Otherwise, NaN or Inf may occur in the interpolation models.\u001b[39;00m\n\u001b[1;32m   1070\u001b[0m constraint_x[constraint_x \u001b[38;5;241m<\u001b[39m \u001b[38;5;241m-\u001b[39mhugecon] \u001b[38;5;241m=\u001b[39m \u001b[38;5;241m-\u001b[39mhugecon\n",
      "\u001b[0;31mValueError\u001b[0m: assignment destination is read-only"
     ]
    }
   ],
   "source": [
    "for maxMode in range(1,2):\n",
    "    objective_f = ObjectiveFunction((\n",
    "        QuasisymmetryTwoTerm(eq=eq_qs, grid=grid_vol, helicity=(1, 0), weight=1),\n",
    "        AspectRatio(eq=eq_qs, target=6, weight=100),\n",
    "        RotationalTransform(eq=eq_qs, target=0.42, weight=100))\n",
    "    )\n",
    "    \n",
    "    R_modes = np.vstack(([0,0,0], eq_qs.surface.R_basis.modes[np.max(np.abs(eq_qs.surface.R_basis.modes), 1) > maxMode, :]))\n",
    "    Z_modes = eq_qs.surface.Z_basis.modes[np.max(np.abs(eq_qs.surface.Z_basis.modes), 1) > maxMode, :]\n",
    "    \n",
    "    constraints = (\n",
    "        ForceBalance(eq=eq_qs),\n",
    "        FixBoundaryR(eq=eq_qs, modes=R_modes),\n",
    "        FixBoundaryZ(eq=eq_qs, modes=Z_modes),\n",
    "        FixPressure(eq=eq_qs),\n",
    "        FixCurrent(eq=eq_qs),\n",
    "        FixPsi(eq=eq_qs)\n",
    "    )\n",
    "    \n",
    "    eq_qs, result = eq_qs.optimize(\n",
    "        objective=objective_f,\n",
    "        constraints=constraints,\n",
    "        optimizer=optimizer,\n",
    "        maxiter=20,\n",
    "        copy=True,\n",
    "        verbose=2\n",
    "    )\n",
    "    \n",
    "    plot_boundary(eq_qs, figsize=(8,8))\n",
    "    plot_boozer_surface(eq_qs, figsize=(8,8))"
   ]
  },
  {
   "cell_type": "code",
   "execution_count": null,
   "id": "3d656f0a-9346-4219-9d2d-0e5b29bb5737",
   "metadata": {},
   "outputs": [],
   "source": [
    "eq_qs.current"
   ]
  },
  {
   "cell_type": "code",
   "execution_count": null,
   "id": "edf6969f-ea1a-411a-9152-9c1fa3e8dfe9",
   "metadata": {},
   "outputs": [],
   "source": []
  }
 ],
 "metadata": {
  "kernelspec": {
   "display_name": "Python 3 (ipykernel)",
   "language": "python",
   "name": "python3"
  },
  "language_info": {
   "codemirror_mode": {
    "name": "ipython",
    "version": 3
   },
   "file_extension": ".py",
   "mimetype": "text/x-python",
   "name": "python",
   "nbconvert_exporter": "python",
   "pygments_lexer": "ipython3",
   "version": "3.10.12"
  }
 },
 "nbformat": 4,
 "nbformat_minor": 5
}
