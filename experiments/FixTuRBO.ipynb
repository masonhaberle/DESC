{
 "cells": [
  {
   "cell_type": "code",
   "execution_count": 1,
   "id": "47b21752-bb32-4c0c-b299-137bccfb705d",
   "metadata": {},
   "outputs": [
    {
     "name": "stderr",
     "output_type": "stream",
     "text": [
      "WARNING:2025-06-24 08:26:43,604:jax._src.xla_bridge:969: An NVIDIA GPU may be present on this machine, but a CUDA-enabled jaxlib is not installed. Falling back to cpu.\n"
     ]
    },
    {
     "name": "stdout",
     "output_type": "stream",
     "text": [
      "DESC version 0+untagged.9470.gaf75d5a.dirty,using JAX backend, jax version=0.4.38, jaxlib version=0.4.38, dtype=float64\n",
      "Using device: CPU, with 6.48 GB available memory\n"
     ]
    }
   ],
   "source": [
    "import numpy as np\n",
    "import matplotlib.pyplot as plt\n",
    "import desc.io\n",
    "from desc.grid import LinearGrid\n",
    "from desc.objectives import (\n",
    "    ObjectiveFunction,\n",
    "    FixBoundaryR,\n",
    "    FixBoundaryZ,\n",
    "    FixModeR,\n",
    "    FixModeZ,\n",
    "    FixPressure,\n",
    "    FixCurrent,\n",
    "    FixPsi,\n",
    "    AspectRatio,\n",
    "    ForceBalance,\n",
    ")\n",
    "from desc.optimize import Optimizer\n",
    "from desc.equilibrium import Equilibrium\n",
    "from desc.geometry import FourierRZToroidalSurface\n",
    "from desc.profiles import PowerSeriesProfile\n",
    "\n"
   ]
  },
  {
   "cell_type": "code",
   "execution_count": 2,
   "id": "7c921cb7-56b6-4f0b-a762-09481da8ab67",
   "metadata": {},
   "outputs": [],
   "source": [
    "eq_fam = desc.io.load(\"inputs/nfp2_QA.h5\")\n",
    "eq_init = eq_fam[-1]\n",
    "eq_qs = eq_init.copy()\n",
    "\n",
    "grid_vol = LinearGrid(\n",
    "    M=eq_qs.M_grid,\n",
    "    N=eq_qs.N_grid,\n",
    "    NFP=eq_qs.NFP,\n",
    "    rho=np.arange(0.1,1.1,0.2),\n",
    "    sym=eq_qs.sym\n",
    ")"
   ]
  },
  {
   "cell_type": "code",
   "execution_count": null,
   "id": "e5145ca3-54d8-4891-bd4f-47bbcc2fcf4c",
   "metadata": {},
   "outputs": [
    {
     "name": "stdout",
     "output_type": "stream",
     "text": [
      "Building objective: aspect ratio\n",
      "Precomputing transforms\n",
      "Timer: Precomputing transforms = 846 ms\n",
      "Timer: Objective build = 899 ms\n",
      "Building objective: lcfs R\n",
      "Building objective: lcfs Z\n",
      "Building objective: fix mode R\n",
      "Building objective: fix mode Z\n",
      "Building objective: fixed pressure\n",
      "Building objective: fixed Psi\n",
      "Building objective: fixed current\n",
      "Building objective: self_consistency R\n",
      "Building objective: self_consistency Z\n",
      "Building objective: lambda gauge\n",
      "Building objective: axis R self consistency\n",
      "Building objective: axis Z self consistency\n",
      "Timer: Objective build = 4.88 sec\n",
      "Timer: Linear constraint projection build = 3.78 sec\n",
      "Number of parameters: 89\n",
      "Number of objectives: 1\n",
      "Starting optimization\n",
      "Using method: Turbo1\n",
      "Using dtype = torch.float64 \n",
      "Using device = cpu\n",
      "Starting from fbest = 0.2196\n"
     ]
    }
   ],
   "source": [
    "eq_qs = eq_init.copy()\n",
    "optimizer = Optimizer(\"Turbo1\")\n",
    "\n",
    "for maxMode in range(1,2):\n",
    "    maxModeInt = maxMode\n",
    "    fixed_R_modes = np.vstack(([0,0,0], eq_qs.surface.R_basis.modes[np.max(np.abs(eq_qs.surface.R_basis.modes), 1) > maxMode, :]))\n",
    "    fixed_Z_modes = eq_qs.surface.Z_basis.modes[np.max(np.abs(eq_qs.surface.Z_basis.modes), 1) > maxMode, :]\n",
    "    fixed_R_modes_int = eq_qs.R_basis.modes[np.max(np.abs(eq_qs.R_basis.modes), 1) > maxModeInt, :]\n",
    "    fixed_Z_modes_int = eq_qs.Z_basis.modes[np.max(np.abs(eq_qs.Z_basis.modes), 1) > maxModeInt, :]\n",
    "    constraints = (\n",
    "        FixBoundaryR(eq=eq_qs, modes=fixed_R_modes),\n",
    "        FixBoundaryZ(eq=eq_qs, modes=fixed_Z_modes),\n",
    "        FixModeR(eq=eq_qs, modes=fixed_R_modes_int),\n",
    "        FixModeZ(eq=eq_qs, modes=fixed_Z_modes_int),\n",
    "        FixPressure(eq=eq_qs),\n",
    "        FixPsi(eq=eq_qs),\n",
    "        FixCurrent(eq=eq_qs),\n",
    "    )   \n",
    "    \n",
    "    objective_f = ObjectiveFunction((\n",
    "        AspectRatio(eq=eq_qs, target=6, weight=1),\n",
    "        #ForceBalance(eq=eq_qs, weight=10),\n",
    "    ))\n",
    "    \n",
    "    global_eq_qs, result = eq_qs.optimize(\n",
    "        objective=objective_f,\n",
    "        constraints=constraints,\n",
    "        optimizer=optimizer,\n",
    "        copy=True,\n",
    "        verbose=2,\n",
    "        maxiter=200,\n",
    "        options={\"trust_regions\":1, \"box_size\":1e-1, \"training_steps\": 50, \"batch_size\":100}\n",
    "    )"
   ]
  }
 ],
 "metadata": {
  "kernelspec": {
   "display_name": "Python 3 (ipykernel)",
   "language": "python",
   "name": "python3"
  },
  "language_info": {
   "codemirror_mode": {
    "name": "ipython",
    "version": 3
   },
   "file_extension": ".py",
   "mimetype": "text/x-python",
   "name": "python",
   "nbconvert_exporter": "python",
   "pygments_lexer": "ipython3",
   "version": "3.13.4"
  }
 },
 "nbformat": 4,
 "nbformat_minor": 5
}
