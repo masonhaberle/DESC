{
 "cells": [
  {
   "cell_type": "code",
   "execution_count": 1,
   "id": "47b21752-bb32-4c0c-b299-137bccfb705d",
   "metadata": {},
   "outputs": [
    {
     "name": "stdout",
     "output_type": "stream",
     "text": [
      "Using device: CPU, with 3.48 GB available memory\n"
     ]
    }
   ],
   "source": [
    "import numpy as np\n",
    "import matplotlib.pyplot as plt\n",
    "import desc.io\n",
    "from desc.grid import LinearGrid, ConcentricGrid\n",
    "from desc.objectives import (\n",
    "    ObjectiveFunction,\n",
    "    FixBoundaryR,\n",
    "    FixBoundaryZ,\n",
    "    FixModeR,\n",
    "    FixModeZ,\n",
    "    FixPressure,\n",
    "    FixCurrent,\n",
    "    FixIota,\n",
    "    FixPsi,\n",
    "    AspectRatio,\n",
    "    ForceBalance,\n",
    "    QuasisymmetryTwoTerm,\n",
    "    RotationalTransform\n",
    ")\n",
    "from desc.optimize import Optimizer\n",
    "from desc.plotting import (\n",
    "    plot_grid,\n",
    "    plot_boozer_modes,\n",
    "    plot_boozer_surface,\n",
    "    plot_qs_error,\n",
    "    plot_boundaries,\n",
    "    plot_boundary,\n",
    "    plot_3d\n",
    ")\n",
    "\n",
    "from desc.equilibrium import Equilibrium\n",
    "from desc.geometry import FourierRZToroidalSurface\n",
    "from desc.profiles import PowerSeriesProfile"
   ]
  },
  {
   "cell_type": "code",
   "execution_count": 2,
   "id": "7c921cb7-56b6-4f0b-a762-09481da8ab67",
   "metadata": {},
   "outputs": [],
   "source": [
    "eq_fam = desc.io.load(\"inputs/lpQA.h5\")\n",
    "eq_init = eq_fam[-1]\n",
    "eq_qs = eq_init.copy()\n",
    "\n",
    "grid_vol = LinearGrid(\n",
    "    M=eq_qs.M_grid,\n",
    "    N=eq_qs.N_grid,\n",
    "    NFP=eq_qs.NFP,\n",
    "    rho=np.arange(0.1,1.1,0.1),\n",
    "    sym=eq_qs.sym\n",
    ")"
   ]
  },
  {
   "cell_type": "code",
   "execution_count": 3,
   "id": "e5145ca3-54d8-4891-bd4f-47bbcc2fcf4c",
   "metadata": {},
   "outputs": [
    {
     "name": "stderr",
     "output_type": "stream",
     "text": [
      "/home/ryc/DESC/desc/utils.py:572: UserWarning: Detected no equilibrium constraints passed, equilibrium optimization problems usually require equilibrium constraints in order to produce meaningful, physical results. Consider adding `ForceBalance` as a constraint.\n",
      "  warnings.warn(msg, err)\n"
     ]
    },
    {
     "name": "stdout",
     "output_type": "stream",
     "text": [
      "Building objective: aspect ratio\n",
      "Precomputing transforms\n",
      "Timer: Precomputing transforms = 2.90 sec\n",
      "Building objective: force\n",
      "Precomputing transforms\n",
      "Timer: Precomputing transforms = 1.80 sec\n",
      "Building objective: rotational transform\n",
      "Precomputing transforms\n",
      "Timer: Precomputing transforms = 2.20 sec\n",
      "Timer: Objective build = 8.27 sec\n",
      "Building objective: lcfs R\n",
      "Building objective: lcfs Z\n",
      "Building objective: fix mode R\n",
      "Building objective: fix mode Z\n",
      "Building objective: fixed pressure\n",
      "Building objective: fixed Psi\n",
      "Building objective: fixed current\n",
      "Building objective: self_consistency R\n",
      "Building objective: self_consistency Z\n",
      "Building objective: lambda gauge\n",
      "Building objective: axis R self consistency\n",
      "Building objective: axis Z self consistency\n",
      "Timer: Objective build = 2.33 sec\n",
      "Timer: LinearConstraintProjection build = 7.50 sec\n",
      "Number of parameters: 69\n",
      "Number of objectives: 544\n",
      "Timer: Initializing the optimization = 18.1 sec\n",
      "\n",
      "Starting optimization\n",
      "Using method: Turbo1\n",
      "Using dtype = torch.float64 \n",
      "Using device = cpu\n",
      "Starting from fbest = 102.9\n",
      "Initial loss:  7.450310234130446e+53\n",
      "Final loss:  5.736511649899045e+52\n",
      "Initial loss:  5.4688447464281775e+53\n",
      "Final loss:  4.2108436579373395e+52\n",
      "238) New best: 102.9\n",
      "Initial loss:  4.319927782908868e+53\n",
      "Final loss:  3.3262126373698734e+52\n",
      "288) New best: 102.9\n",
      "Initial loss:  3.5699403207229466e+53\n",
      "Final loss:  2.748745165617878e+52\n"
     ]
    },
    {
     "ename": "KeyboardInterrupt",
     "evalue": "",
     "output_type": "error",
     "traceback": [
      "\u001b[31m---------------------------------------------------------------------------\u001b[39m",
      "\u001b[31mKeyboardInterrupt\u001b[39m                         Traceback (most recent call last)",
      "\u001b[36mCell\u001b[39m\u001b[36m \u001b[39m\u001b[32mIn[3]\u001b[39m\u001b[32m, line 26\u001b[39m\n\u001b[32m     10\u001b[39m constraints = (\n\u001b[32m     11\u001b[39m     FixBoundaryR(eq=eq_qs, modes=fixed_R_modes),\n\u001b[32m     12\u001b[39m     FixBoundaryZ(eq=eq_qs, modes=fixed_Z_modes),\n\u001b[32m   (...)\u001b[39m\u001b[32m     17\u001b[39m     FixCurrent(eq=eq_qs),\n\u001b[32m     18\u001b[39m )   \n\u001b[32m     20\u001b[39m objective_f = ObjectiveFunction((\n\u001b[32m     21\u001b[39m     AspectRatio(eq=eq_qs, target=\u001b[32m6\u001b[39m, weight=\u001b[32m10\u001b[39m),\n\u001b[32m     22\u001b[39m     ForceBalance(eq=eq_qs, weight=\u001b[32m1\u001b[39m),\n\u001b[32m     23\u001b[39m     RotationalTransform(eq=eq_qs, target=\u001b[32m0.4\u001b[39m, weight=\u001b[32m10\u001b[39m),\n\u001b[32m     24\u001b[39m ))\n\u001b[32m---> \u001b[39m\u001b[32m26\u001b[39m global_eq_qs, result = eq_qs.optimize(\n\u001b[32m     27\u001b[39m     objective=objective_f,\n\u001b[32m     28\u001b[39m     constraints=constraints,\n\u001b[32m     29\u001b[39m     optimizer=optimizer,\n\u001b[32m     30\u001b[39m     copy=\u001b[38;5;28;01mTrue\u001b[39;00m,\n\u001b[32m     31\u001b[39m     verbose=\u001b[32m2\u001b[39m,\n\u001b[32m     32\u001b[39m     maxiter=\u001b[32m200\u001b[39m,\n\u001b[32m     33\u001b[39m     options={\u001b[33m\"\u001b[39m\u001b[33mmax_time\u001b[39m\u001b[33m\"\u001b[39m:\u001b[32m60\u001b[39m, \u001b[33m\"\u001b[39m\u001b[33mtrust_regions\u001b[39m\u001b[33m\"\u001b[39m:\u001b[32m1\u001b[39m, \u001b[33m\"\u001b[39m\u001b[33mbox_size\u001b[39m\u001b[33m\"\u001b[39m:\u001b[32m1\u001b[39m, \u001b[33m\"\u001b[39m\u001b[33mtraining_steps\u001b[39m\u001b[33m\"\u001b[39m: \u001b[32m30\u001b[39m, \u001b[33m\"\u001b[39m\u001b[33mbatch_size\u001b[39m\u001b[33m\"\u001b[39m:\u001b[32m50\u001b[39m}\n\u001b[32m     34\u001b[39m )\n",
      "\u001b[36mFile \u001b[39m\u001b[32m~/DESC/desc/equilibrium/equilibrium.py:2357\u001b[39m, in \u001b[36mEquilibrium.optimize\u001b[39m\u001b[34m(self, objective, constraints, optimizer, ftol, xtol, gtol, ctol, maxiter, x_scale, options, verbose, copy, perturb_scale)\u001b[39m\n\u001b[32m   2347\u001b[39m     constraints = \u001b[38;5;28mtuple\u001b[39m([constraints])\n\u001b[32m   2348\u001b[39m warnif(\n\u001b[32m   2349\u001b[39m     \u001b[38;5;129;01mnot\u001b[39;00m \u001b[38;5;28many\u001b[39m([con._equilibrium \u001b[38;5;28;01mfor\u001b[39;00m con \u001b[38;5;129;01min\u001b[39;00m constraints]),\n\u001b[32m   2350\u001b[39m     \u001b[38;5;167;01mUserWarning\u001b[39;00m,\n\u001b[32m   (...)\u001b[39m\u001b[32m   2354\u001b[39m     \u001b[33m\"\u001b[39m\u001b[33mconstraint.\u001b[39m\u001b[33m\"\u001b[39m,\n\u001b[32m   2355\u001b[39m )\n\u001b[32m-> \u001b[39m\u001b[32m2357\u001b[39m things, result = optimizer.optimize(\n\u001b[32m   2358\u001b[39m     \u001b[38;5;28mself\u001b[39m,\n\u001b[32m   2359\u001b[39m     objective,\n\u001b[32m   2360\u001b[39m     constraints,\n\u001b[32m   2361\u001b[39m     ftol=ftol,\n\u001b[32m   2362\u001b[39m     xtol=xtol,\n\u001b[32m   2363\u001b[39m     gtol=gtol,\n\u001b[32m   2364\u001b[39m     ctol=ctol,\n\u001b[32m   2365\u001b[39m     x_scale=x_scale,\n\u001b[32m   2366\u001b[39m     verbose=verbose,\n\u001b[32m   2367\u001b[39m     maxiter=maxiter,\n\u001b[32m   2368\u001b[39m     options=options,\n\u001b[32m   2369\u001b[39m     copy=copy,\n\u001b[32m   2370\u001b[39m     perturb_scale=perturb_scale,\n\u001b[32m   2371\u001b[39m )\n\u001b[32m   2373\u001b[39m \u001b[38;5;28;01mreturn\u001b[39;00m things[\u001b[32m0\u001b[39m], result\n",
      "\u001b[36mFile \u001b[39m\u001b[32m~/DESC/desc/optimize/optimizer.py:282\u001b[39m, in \u001b[36mOptimizer.optimize\u001b[39m\u001b[34m(self, things, objective, constraints, ftol, xtol, gtol, ctol, x_scale, verbose, maxiter, options, copy, perturb_scale)\u001b[39m\n\u001b[32m    278\u001b[39m     \u001b[38;5;28mprint\u001b[39m(\u001b[33m\"\u001b[39m\u001b[33mUsing method: \u001b[39m\u001b[33m\"\u001b[39m + \u001b[38;5;28mstr\u001b[39m(\u001b[38;5;28mself\u001b[39m.method))\n\u001b[32m    280\u001b[39m timer.start(\u001b[33m\"\u001b[39m\u001b[33mSolution time\u001b[39m\u001b[33m\"\u001b[39m)\n\u001b[32m--> \u001b[39m\u001b[32m282\u001b[39m result = optimizers[method][\u001b[33m\"\u001b[39m\u001b[33mfun\u001b[39m\u001b[33m\"\u001b[39m](\n\u001b[32m    283\u001b[39m     objective,\n\u001b[32m    284\u001b[39m     nonlinear_constraint,\n\u001b[32m    285\u001b[39m     x0,\n\u001b[32m    286\u001b[39m     method,\n\u001b[32m    287\u001b[39m     x_scale,\n\u001b[32m    288\u001b[39m     verbose,\n\u001b[32m    289\u001b[39m     stoptol,\n\u001b[32m    290\u001b[39m     options,\n\u001b[32m    291\u001b[39m )\n\u001b[32m    292\u001b[39m result.x0 = x0\n\u001b[32m    294\u001b[39m \u001b[38;5;28;01mif\u001b[39;00m \u001b[38;5;28misinstance\u001b[39m(objective, LinearConstraintProjection):\n\u001b[32m    295\u001b[39m     \u001b[38;5;66;03m# remove wrapper to get at underlying objective\u001b[39;00m\n",
      "\u001b[36mFile \u001b[39m\u001b[32m~/DESC/desc/optimize/_desc_wrappers.py:595\u001b[39m, in \u001b[36m_optimize_Turbo1\u001b[39m\u001b[34m(objective, constraint, x0, method, x_scale, verbose, stoptol, options)\u001b[39m\n\u001b[32m    574\u001b[39m n_init = \u001b[32m2\u001b[39m*lenObj\n\u001b[32m    576\u001b[39m turbo1 = Turbo1(f = fun,\n\u001b[32m    577\u001b[39m                 lb = lb, \u001b[38;5;66;03m#constraint.bounds_scaled[0],\u001b[39;00m\n\u001b[32m    578\u001b[39m                 ub = ub, \u001b[38;5;66;03m#constraint.bounds_scaled[1],\u001b[39;00m\n\u001b[32m   (...)\u001b[39m\u001b[32m    593\u001b[39m                 \u001b[38;5;66;03m# initial_lengthscales=scale\u001b[39;00m\n\u001b[32m    594\u001b[39m                )\n\u001b[32m--> \u001b[39m\u001b[32m595\u001b[39m turbo1.optimize()\n\u001b[32m    596\u001b[39m X = turbo1.X\n\u001b[32m    597\u001b[39m fX = turbo1.fX\n",
      "\u001b[36mFile \u001b[39m\u001b[32m~/TuRBO/turbo/turbo_1.py:361\u001b[39m, in \u001b[36mTurbo1.optimize\u001b[39m\u001b[34m(self)\u001b[39m\n\u001b[32m    358\u001b[39m fX = deepcopy(\u001b[38;5;28mself\u001b[39m._fX).ravel()\n\u001b[32m    360\u001b[39m \u001b[38;5;66;03m# Create the next batch\u001b[39;00m\n\u001b[32m--> \u001b[39m\u001b[32m361\u001b[39m X_cand, y_cand, _ = \u001b[38;5;28mself\u001b[39m._create_candidates(\n\u001b[32m    362\u001b[39m     X, bestX, fX, length=\u001b[38;5;28mself\u001b[39m.length, \n\u001b[32m    363\u001b[39m     n_training_steps=\u001b[38;5;28mself\u001b[39m.n_training_steps, hypers={}\n\u001b[32m    364\u001b[39m )\n\u001b[32m    366\u001b[39m X_next = \u001b[38;5;28mself\u001b[39m._select_candidates(X_cand, y_cand)\n\u001b[32m    368\u001b[39m \u001b[38;5;66;03m# Undo the warping\u001b[39;00m\n",
      "\u001b[36mFile \u001b[39m\u001b[32m~/TuRBO/turbo/turbo_1.py:277\u001b[39m, in \u001b[36mTurbo1._create_candidates\u001b[39m\u001b[34m(self, X, bestX, fX, length, n_training_steps, hypers)\u001b[39m\n\u001b[32m    275\u001b[39m \u001b[38;5;28;01mwith\u001b[39;00m torch.no_grad(), gpytorch.settings.max_cholesky_size(\u001b[38;5;28mself\u001b[39m.max_cholesky_size):\n\u001b[32m    276\u001b[39m     X_cand_torch = torch.tensor(X_cand).to(device=device, dtype=dtype)\n\u001b[32m--> \u001b[39m\u001b[32m277\u001b[39m     y_cand = gp.likelihood(gp(X_cand_torch)).sample(torch.Size([\u001b[38;5;28mself\u001b[39m.batch_size])).t().cpu().detach().numpy()\n\u001b[32m    279\u001b[39m \u001b[38;5;66;03m# Remove the torch variables\u001b[39;00m\n\u001b[32m    280\u001b[39m \u001b[38;5;28;01mdel\u001b[39;00m X_torch, y_torch, X_cand_torch, gp\n",
      "\u001b[36mFile \u001b[39m\u001b[32m~/miniconda3/envs/desc/lib/python3.13/site-packages/gpytorch/distributions/multivariate_normal.py:338\u001b[39m, in \u001b[36mMultivariateNormal.sample\u001b[39m\u001b[34m(self, sample_shape, base_samples)\u001b[39m\n\u001b[32m    324\u001b[39m \u001b[38;5;250m\u001b[39m\u001b[33mr\u001b[39m\u001b[33;03m\"\"\"\u001b[39;00m\n\u001b[32m    325\u001b[39m \u001b[33;03mGenerates a `sample_shape` shaped sample or `sample_shape`\u001b[39;00m\n\u001b[32m    326\u001b[39m \u001b[33;03mshaped batch of samples if the distribution parameters\u001b[39;00m\n\u001b[32m   (...)\u001b[39m\u001b[32m    335\u001b[39m \u001b[33;03m:return: A `*sample_shape x *batch_shape x N` tensor of i.i.d. samples.\u001b[39;00m\n\u001b[32m    336\u001b[39m \u001b[33;03m\"\"\"\u001b[39;00m\n\u001b[32m    337\u001b[39m \u001b[38;5;28;01mwith\u001b[39;00m torch.no_grad():\n\u001b[32m--> \u001b[39m\u001b[32m338\u001b[39m     \u001b[38;5;28;01mreturn\u001b[39;00m \u001b[38;5;28mself\u001b[39m.rsample(sample_shape=sample_shape, base_samples=base_samples)\n",
      "\u001b[36mFile \u001b[39m\u001b[32m~/miniconda3/envs/desc/lib/python3.13/site-packages/gpytorch/distributions/multivariate_normal.py:284\u001b[39m, in \u001b[36mMultivariateNormal.rsample\u001b[39m\u001b[34m(self, sample_shape, base_samples)\u001b[39m\n\u001b[32m    281\u001b[39m     num_samples = sample_shape.numel() \u001b[38;5;129;01mor\u001b[39;00m \u001b[32m1\u001b[39m\n\u001b[32m    283\u001b[39m     \u001b[38;5;66;03m# Get samples\u001b[39;00m\n\u001b[32m--> \u001b[39m\u001b[32m284\u001b[39m     res = covar.zero_mean_mvn_samples(num_samples) + \u001b[38;5;28mself\u001b[39m.loc.unsqueeze(\u001b[32m0\u001b[39m)\n\u001b[32m    285\u001b[39m     res = res.view(sample_shape + \u001b[38;5;28mself\u001b[39m.loc.shape)\n\u001b[32m    287\u001b[39m \u001b[38;5;28;01melse\u001b[39;00m:\n",
      "\u001b[36mFile \u001b[39m\u001b[32m~/miniconda3/envs/desc/lib/python3.13/site-packages/linear_operator/operators/_linear_operator.py:2741\u001b[39m, in \u001b[36mLinearOperator.zero_mean_mvn_samples\u001b[39m\u001b[34m(self, num_samples)\u001b[39m\n\u001b[32m   2739\u001b[39m     covar_root = \u001b[38;5;28mself\u001b[39m.to_dense().sqrt()\n\u001b[32m   2740\u001b[39m \u001b[38;5;28;01melse\u001b[39;00m:\n\u001b[32m-> \u001b[39m\u001b[32m2741\u001b[39m     covar_root = \u001b[38;5;28mself\u001b[39m.root_decomposition().root\n\u001b[32m   2743\u001b[39m base_samples = torch.randn(\n\u001b[32m   2744\u001b[39m     *\u001b[38;5;28mself\u001b[39m.batch_shape,\n\u001b[32m   2745\u001b[39m     covar_root.size(-\u001b[32m1\u001b[39m),\n\u001b[32m   (...)\u001b[39m\u001b[32m   2748\u001b[39m     device=\u001b[38;5;28mself\u001b[39m.device,\n\u001b[32m   2749\u001b[39m )\n\u001b[32m   2750\u001b[39m samples = covar_root.matmul(base_samples).permute(-\u001b[32m1\u001b[39m, *\u001b[38;5;28mrange\u001b[39m(\u001b[38;5;28mself\u001b[39m.dim() - \u001b[32m1\u001b[39m)).contiguous()\n",
      "\u001b[36mFile \u001b[39m\u001b[32m~/miniconda3/envs/desc/lib/python3.13/site-packages/linear_operator/utils/memoize.py:59\u001b[39m, in \u001b[36m_cached.<locals>.g\u001b[39m\u001b[34m(self, *args, **kwargs)\u001b[39m\n\u001b[32m     57\u001b[39m kwargs_pkl = pickle.dumps(kwargs)\n\u001b[32m     58\u001b[39m \u001b[38;5;28;01mif\u001b[39;00m \u001b[38;5;129;01mnot\u001b[39;00m _is_in_cache(\u001b[38;5;28mself\u001b[39m, cache_name, *args, kwargs_pkl=kwargs_pkl):\n\u001b[32m---> \u001b[39m\u001b[32m59\u001b[39m     \u001b[38;5;28;01mreturn\u001b[39;00m _add_to_cache(\u001b[38;5;28mself\u001b[39m, cache_name, method(\u001b[38;5;28mself\u001b[39m, *args, **kwargs), *args, kwargs_pkl=kwargs_pkl)\n\u001b[32m     60\u001b[39m \u001b[38;5;28;01mreturn\u001b[39;00m _get_from_cache(\u001b[38;5;28mself\u001b[39m, cache_name, *args, kwargs_pkl=kwargs_pkl)\n",
      "\u001b[36mFile \u001b[39m\u001b[32m~/miniconda3/envs/desc/lib/python3.13/site-packages/linear_operator/operators/_linear_operator.py:2185\u001b[39m, in \u001b[36mLinearOperator.root_decomposition\u001b[39m\u001b[34m(self, method)\u001b[39m\n\u001b[32m   2183\u001b[39m     root = U * S.sqrt().unsqueeze(-\u001b[32m2\u001b[39m)\n\u001b[32m   2184\u001b[39m \u001b[38;5;28;01melif\u001b[39;00m method == \u001b[33m\"\u001b[39m\u001b[33mlanczos\u001b[39m\u001b[33m\"\u001b[39m:\n\u001b[32m-> \u001b[39m\u001b[32m2185\u001b[39m     root = \u001b[38;5;28mself\u001b[39m._root_decomposition()\n\u001b[32m   2186\u001b[39m \u001b[38;5;28;01melse\u001b[39;00m:\n\u001b[32m   2187\u001b[39m     \u001b[38;5;28;01mraise\u001b[39;00m \u001b[38;5;167;01mRuntimeError\u001b[39;00m(\u001b[33mf\u001b[39m\u001b[33m\"\u001b[39m\u001b[33mUnknown root decomposition method \u001b[39m\u001b[33m'\u001b[39m\u001b[38;5;132;01m{\u001b[39;00mmethod\u001b[38;5;132;01m}\u001b[39;00m\u001b[33m'\u001b[39m\u001b[33m\"\u001b[39m)\n",
      "\u001b[36mFile \u001b[39m\u001b[32m~/miniconda3/envs/desc/lib/python3.13/site-packages/linear_operator/operators/_linear_operator.py:700\u001b[39m, in \u001b[36mLinearOperator._root_decomposition\u001b[39m\u001b[34m(self)\u001b[39m\n\u001b[32m    688\u001b[39m \u001b[38;5;28;01mdef\u001b[39;00m\u001b[38;5;250m \u001b[39m\u001b[34m_root_decomposition\u001b[39m(\n\u001b[32m    689\u001b[39m     \u001b[38;5;28mself\u001b[39m: Float[LinearOperator, \u001b[33m\"\u001b[39m\u001b[33m... N N\u001b[39m\u001b[33m\"\u001b[39m]\n\u001b[32m    690\u001b[39m ) -> Union[Float[torch.Tensor, \u001b[33m\"\u001b[39m\u001b[33m... N N\u001b[39m\u001b[33m\"\u001b[39m], Float[LinearOperator, \u001b[33m\"\u001b[39m\u001b[33m... N N\u001b[39m\u001b[33m\"\u001b[39m]]:\n\u001b[32m    691\u001b[39m \u001b[38;5;250m    \u001b[39m\u001b[33;03m\"\"\"\u001b[39;00m\n\u001b[32m    692\u001b[39m \u001b[33;03m    Returns the (usually low-rank) root of a LinearOperator of a PSD matrix.\u001b[39;00m\n\u001b[32m    693\u001b[39m \n\u001b[32m   (...)\u001b[39m\u001b[32m    697\u001b[39m \u001b[33;03m        Calling this method directly is discouraged.\u001b[39;00m\n\u001b[32m    698\u001b[39m \u001b[33;03m    \"\"\"\u001b[39;00m\n\u001b[32m    699\u001b[39m     res, _ = RootDecomposition.apply(\n\u001b[32m--> \u001b[39m\u001b[32m700\u001b[39m         \u001b[38;5;28mself\u001b[39m.representation_tree(),\n\u001b[32m    701\u001b[39m         \u001b[38;5;28mself\u001b[39m._root_decomposition_size(),\n\u001b[32m    702\u001b[39m         \u001b[38;5;28mself\u001b[39m.dtype,\n\u001b[32m    703\u001b[39m         \u001b[38;5;28mself\u001b[39m.device,\n\u001b[32m    704\u001b[39m         \u001b[38;5;28mself\u001b[39m.batch_shape,\n\u001b[32m    705\u001b[39m         \u001b[38;5;28mself\u001b[39m.matrix_shape,\n\u001b[32m    706\u001b[39m         \u001b[38;5;28;01mTrue\u001b[39;00m,\n\u001b[32m    707\u001b[39m         \u001b[38;5;28;01mFalse\u001b[39;00m,\n\u001b[32m    708\u001b[39m         \u001b[38;5;28;01mNone\u001b[39;00m,\n\u001b[32m    709\u001b[39m         *\u001b[38;5;28mself\u001b[39m.representation(),\n\u001b[32m    710\u001b[39m     )\n\u001b[32m    712\u001b[39m     \u001b[38;5;28;01mreturn\u001b[39;00m res\n",
      "\u001b[36mFile \u001b[39m\u001b[32m~/miniconda3/envs/desc/lib/python3.13/site-packages/linear_operator/operators/_linear_operator.py:2072\u001b[39m, in \u001b[36mLinearOperator.representation_tree\u001b[39m\u001b[34m(self)\u001b[39m\n\u001b[32m   2062\u001b[39m \u001b[38;5;28;01mdef\u001b[39;00m\u001b[38;5;250m \u001b[39m\u001b[34mrepresentation_tree\u001b[39m(\u001b[38;5;28mself\u001b[39m) -> LinearOperatorRepresentationTree:\n\u001b[32m   2063\u001b[39m \u001b[38;5;250m    \u001b[39m\u001b[33;03m\"\"\"\u001b[39;00m\n\u001b[32m   2064\u001b[39m \u001b[33;03m    Returns a\u001b[39;00m\n\u001b[32m   2065\u001b[39m \u001b[33;03m    :obj:`linear_operator.operators.LinearOperatorRepresentationTree` tree\u001b[39;00m\n\u001b[32m   (...)\u001b[39m\u001b[32m   2070\u001b[39m \u001b[33;03m    including all subobjects. This is used internally.\u001b[39;00m\n\u001b[32m   2071\u001b[39m \u001b[33;03m    \"\"\"\u001b[39;00m\n\u001b[32m-> \u001b[39m\u001b[32m2072\u001b[39m     \u001b[38;5;28;01mreturn\u001b[39;00m LinearOperatorRepresentationTree(\u001b[38;5;28mself\u001b[39m)\n",
      "\u001b[36mFile \u001b[39m\u001b[32m~/miniconda3/envs/desc/lib/python3.13/site-packages/linear_operator/operators/linear_operator_representation_tree.py:15\u001b[39m, in \u001b[36mLinearOperatorRepresentationTree.__init__\u001b[39m\u001b[34m(self, linear_op)\u001b[39m\n\u001b[32m     13\u001b[39m \u001b[38;5;28;01mfor\u001b[39;00m arg \u001b[38;5;129;01min\u001b[39;00m itertools.chain(linear_op._args, linear_op._differentiable_kwargs.values()):\n\u001b[32m     14\u001b[39m     \u001b[38;5;28;01mif\u001b[39;00m \u001b[38;5;28mhasattr\u001b[39m(arg, \u001b[33m\"\u001b[39m\u001b[33mrepresentation\u001b[39m\u001b[33m\"\u001b[39m) \u001b[38;5;129;01mand\u001b[39;00m \u001b[38;5;28mcallable\u001b[39m(arg.representation):  \u001b[38;5;66;03m# Is it a lazy tensor?\u001b[39;00m\n\u001b[32m---> \u001b[39m\u001b[32m15\u001b[39m         representation_size = \u001b[38;5;28mlen\u001b[39m(arg.representation())\n\u001b[32m     16\u001b[39m         \u001b[38;5;28mself\u001b[39m.children.append((\u001b[38;5;28mslice\u001b[39m(counter, counter + representation_size, \u001b[38;5;28;01mNone\u001b[39;00m), arg.representation_tree()))\n\u001b[32m     17\u001b[39m         counter += representation_size\n",
      "\u001b[36mFile \u001b[39m\u001b[32m~/miniconda3/envs/desc/lib/python3.13/site-packages/linear_operator/operators/_linear_operator.py:2056\u001b[39m, in \u001b[36mLinearOperator.representation\u001b[39m\u001b[34m(self)\u001b[39m\n\u001b[32m   2054\u001b[39m     representation.append(arg)\n\u001b[32m   2055\u001b[39m \u001b[38;5;28;01melif\u001b[39;00m \u001b[38;5;28mhasattr\u001b[39m(arg, \u001b[33m\"\u001b[39m\u001b[33mrepresentation\u001b[39m\u001b[33m\"\u001b[39m) \u001b[38;5;129;01mand\u001b[39;00m \u001b[38;5;28mcallable\u001b[39m(arg.representation):  \u001b[38;5;66;03m# Is it a LinearOperator?\u001b[39;00m\n\u001b[32m-> \u001b[39m\u001b[32m2056\u001b[39m     representation += \u001b[38;5;28mlist\u001b[39m(arg.representation())\n\u001b[32m   2057\u001b[39m \u001b[38;5;28;01melse\u001b[39;00m:\n\u001b[32m   2058\u001b[39m     \u001b[38;5;28;01mraise\u001b[39;00m \u001b[38;5;167;01mRuntimeError\u001b[39;00m(\u001b[33m\"\u001b[39m\u001b[33mRepresentation of a LinearOperator should consist only of Tensors\u001b[39m\u001b[33m\"\u001b[39m)\n",
      "\u001b[36mFile \u001b[39m\u001b[32m~/miniconda3/envs/desc/lib/python3.13/site-packages/gpytorch/lazy/lazy_evaluated_kernel_tensor.py:397\u001b[39m, in \u001b[36mLazyEvaluatedKernelTensor.representation\u001b[39m\u001b[34m(self)\u001b[39m\n\u001b[32m    393\u001b[39m     \u001b[38;5;28;01mreturn\u001b[39;00m \u001b[38;5;28msuper\u001b[39m().representation()\n\u001b[32m    394\u001b[39m \u001b[38;5;66;03m# Otherwise, we'll evaluate the kernel (or at least its LinearOperator representation) and use its\u001b[39;00m\n\u001b[32m    395\u001b[39m \u001b[38;5;66;03m# representation\u001b[39;00m\n\u001b[32m    396\u001b[39m \u001b[38;5;28;01melse\u001b[39;00m:\n\u001b[32m--> \u001b[39m\u001b[32m397\u001b[39m     \u001b[38;5;28;01mreturn\u001b[39;00m \u001b[38;5;28mself\u001b[39m.evaluate_kernel().representation()\n",
      "\u001b[36mFile \u001b[39m\u001b[32m~/miniconda3/envs/desc/lib/python3.13/site-packages/gpytorch/utils/memoize.py:59\u001b[39m, in \u001b[36m_cached.<locals>.g\u001b[39m\u001b[34m(self, *args, **kwargs)\u001b[39m\n\u001b[32m     57\u001b[39m kwargs_pkl = pickle.dumps(kwargs)\n\u001b[32m     58\u001b[39m \u001b[38;5;28;01mif\u001b[39;00m \u001b[38;5;129;01mnot\u001b[39;00m _is_in_cache(\u001b[38;5;28mself\u001b[39m, cache_name, *args, kwargs_pkl=kwargs_pkl):\n\u001b[32m---> \u001b[39m\u001b[32m59\u001b[39m     \u001b[38;5;28;01mreturn\u001b[39;00m _add_to_cache(\u001b[38;5;28mself\u001b[39m, cache_name, method(\u001b[38;5;28mself\u001b[39m, *args, **kwargs), *args, kwargs_pkl=kwargs_pkl)\n\u001b[32m     60\u001b[39m \u001b[38;5;28;01mreturn\u001b[39;00m _get_from_cache(\u001b[38;5;28mself\u001b[39m, cache_name, *args, kwargs_pkl=kwargs_pkl)\n",
      "\u001b[36mFile \u001b[39m\u001b[32m~/miniconda3/envs/desc/lib/python3.13/site-packages/gpytorch/lazy/lazy_evaluated_kernel_tensor.py:25\u001b[39m, in \u001b[36mrecall_grad_state.<locals>.wrapped\u001b[39m\u001b[34m(self, *args, **kwargs)\u001b[39m\n\u001b[32m     22\u001b[39m \u001b[38;5;129m@functools\u001b[39m.wraps(method)\n\u001b[32m     23\u001b[39m \u001b[38;5;28;01mdef\u001b[39;00m\u001b[38;5;250m \u001b[39m\u001b[34mwrapped\u001b[39m(\u001b[38;5;28mself\u001b[39m, *args, **kwargs):\n\u001b[32m     24\u001b[39m     \u001b[38;5;28;01mwith\u001b[39;00m torch.set_grad_enabled(\u001b[38;5;28mself\u001b[39m._is_grad_enabled):\n\u001b[32m---> \u001b[39m\u001b[32m25\u001b[39m         output = method(\u001b[38;5;28mself\u001b[39m, *args, **kwargs)\n\u001b[32m     26\u001b[39m     \u001b[38;5;28;01mreturn\u001b[39;00m output\n",
      "\u001b[36mFile \u001b[39m\u001b[32m~/miniconda3/envs/desc/lib/python3.13/site-packages/gpytorch/lazy/lazy_evaluated_kernel_tensor.py:355\u001b[39m, in \u001b[36mLazyEvaluatedKernelTensor.evaluate_kernel\u001b[39m\u001b[34m(self)\u001b[39m\n\u001b[32m    353\u001b[39m     temp_active_dims = \u001b[38;5;28mself\u001b[39m.kernel.active_dims\n\u001b[32m    354\u001b[39m     \u001b[38;5;28mself\u001b[39m.kernel.active_dims = \u001b[38;5;28;01mNone\u001b[39;00m\n\u001b[32m--> \u001b[39m\u001b[32m355\u001b[39m     res = \u001b[38;5;28mself\u001b[39m.kernel(\n\u001b[32m    356\u001b[39m         x1,\n\u001b[32m    357\u001b[39m         x2,\n\u001b[32m    358\u001b[39m         diag=\u001b[38;5;28;01mFalse\u001b[39;00m,\n\u001b[32m    359\u001b[39m         last_dim_is_batch=\u001b[38;5;28mself\u001b[39m.last_dim_is_batch,\n\u001b[32m    360\u001b[39m         **\u001b[38;5;28mself\u001b[39m.params,\n\u001b[32m    361\u001b[39m     )\n\u001b[32m    362\u001b[39m     \u001b[38;5;28mself\u001b[39m.kernel.active_dims = temp_active_dims\n\u001b[32m    364\u001b[39m \u001b[38;5;66;03m# Check the size of the output\u001b[39;00m\n",
      "\u001b[36mFile \u001b[39m\u001b[32m~/miniconda3/envs/desc/lib/python3.13/site-packages/gpytorch/kernels/kernel.py:539\u001b[39m, in \u001b[36mKernel.__call__\u001b[39m\u001b[34m(self, x1, x2, diag, last_dim_is_batch, **params)\u001b[39m\n\u001b[32m    536\u001b[39m     res = LazyEvaluatedKernelTensor(x1_, x2_, kernel=\u001b[38;5;28mself\u001b[39m, last_dim_is_batch=last_dim_is_batch, **params)\n\u001b[32m    537\u001b[39m \u001b[38;5;28;01melse\u001b[39;00m:\n\u001b[32m    538\u001b[39m     res = to_linear_operator(\n\u001b[32m--> \u001b[39m\u001b[32m539\u001b[39m         \u001b[38;5;28msuper\u001b[39m(Kernel, \u001b[38;5;28mself\u001b[39m).\u001b[34m__call__\u001b[39m(x1_, x2_, last_dim_is_batch=last_dim_is_batch, **params)\n\u001b[32m    540\u001b[39m     )\n\u001b[32m    541\u001b[39m \u001b[38;5;28;01mreturn\u001b[39;00m res\n",
      "\u001b[36mFile \u001b[39m\u001b[32m~/miniconda3/envs/desc/lib/python3.13/site-packages/gpytorch/module.py:82\u001b[39m, in \u001b[36mModule.__call__\u001b[39m\u001b[34m(self, *inputs, **kwargs)\u001b[39m\n\u001b[32m     81\u001b[39m \u001b[38;5;28;01mdef\u001b[39;00m\u001b[38;5;250m \u001b[39m\u001b[34m__call__\u001b[39m(\u001b[38;5;28mself\u001b[39m, *inputs, **kwargs) -> Union[Tensor, Distribution, LinearOperator]:\n\u001b[32m---> \u001b[39m\u001b[32m82\u001b[39m     outputs = \u001b[38;5;28mself\u001b[39m.forward(*inputs, **kwargs)\n\u001b[32m     83\u001b[39m     \u001b[38;5;28;01mif\u001b[39;00m \u001b[38;5;28misinstance\u001b[39m(outputs, \u001b[38;5;28mlist\u001b[39m):\n\u001b[32m     84\u001b[39m         \u001b[38;5;28;01mreturn\u001b[39;00m [_validate_module_outputs(output) \u001b[38;5;28;01mfor\u001b[39;00m output \u001b[38;5;129;01min\u001b[39;00m outputs]\n",
      "\u001b[36mFile \u001b[39m\u001b[32m~/miniconda3/envs/desc/lib/python3.13/site-packages/gpytorch/kernels/scale_kernel.py:109\u001b[39m, in \u001b[36mScaleKernel.forward\u001b[39m\u001b[34m(self, x1, x2, last_dim_is_batch, diag, **params)\u001b[39m\n\u001b[32m    108\u001b[39m \u001b[38;5;28;01mdef\u001b[39;00m\u001b[38;5;250m \u001b[39m\u001b[34mforward\u001b[39m(\u001b[38;5;28mself\u001b[39m, x1, x2, last_dim_is_batch=\u001b[38;5;28;01mFalse\u001b[39;00m, diag=\u001b[38;5;28;01mFalse\u001b[39;00m, **params):\n\u001b[32m--> \u001b[39m\u001b[32m109\u001b[39m     orig_output = \u001b[38;5;28mself\u001b[39m.base_kernel.forward(x1, x2, diag=diag, last_dim_is_batch=last_dim_is_batch, **params)\n\u001b[32m    110\u001b[39m     outputscales = \u001b[38;5;28mself\u001b[39m.outputscale\n\u001b[32m    111\u001b[39m     \u001b[38;5;28;01mif\u001b[39;00m last_dim_is_batch:\n",
      "\u001b[31mKeyboardInterrupt\u001b[39m: "
     ]
    }
   ],
   "source": [
    "eq_qs = eq_init.copy()\n",
    "optimizer = Optimizer(\"Turbo1\")\n",
    "\n",
    "for maxMode in range(2,3):\n",
    "    maxModeInt = maxMode\n",
    "    fixed_R_modes = np.vstack(([0,0,0], eq_qs.surface.R_basis.modes[np.max(np.abs(eq_qs.surface.R_basis.modes), 1) > maxMode, :]))\n",
    "    fixed_Z_modes = eq_qs.surface.Z_basis.modes[np.max(np.abs(eq_qs.surface.Z_basis.modes), 1) > maxMode, :]\n",
    "    fixed_R_modes_int = eq_qs.R_basis.modes[np.max(np.abs(eq_qs.R_basis.modes), 1) > maxModeInt, :]\n",
    "    fixed_Z_modes_int = eq_qs.Z_basis.modes[np.max(np.abs(eq_qs.Z_basis.modes), 1) > maxModeInt, :]\n",
    "    constraints = (\n",
    "        FixBoundaryR(eq=eq_qs, modes=fixed_R_modes),\n",
    "        FixBoundaryZ(eq=eq_qs, modes=fixed_Z_modes),\n",
    "        FixModeR(eq=eq_qs, modes=fixed_R_modes_int),\n",
    "        FixModeZ(eq=eq_qs, modes=fixed_Z_modes_int),\n",
    "        FixPressure(eq=eq_qs),\n",
    "        FixPsi(eq=eq_qs),\n",
    "        FixCurrent(eq=eq_qs),\n",
    "    )   \n",
    "    \n",
    "    objective_f = ObjectiveFunction((\n",
    "        AspectRatio(eq=eq_qs, target=6, weight=10),\n",
    "        ForceBalance(eq=eq_qs, weight=1),\n",
    "        RotationalTransform(eq=eq_qs, target=0.4, weight=10),\n",
    "    ))\n",
    "    \n",
    "    global_eq_qs, result = eq_qs.optimize(\n",
    "        objective=objective_f,\n",
    "        constraints=constraints,\n",
    "        optimizer=optimizer,\n",
    "        copy=True,\n",
    "        verbose=2,\n",
    "        maxiter=200,\n",
    "        options={\"max_time\":60, \"trust_regions\":1, \"box_size\":1, \"training_steps\": 30, \"batch_size\":50}\n",
    "    )"
   ]
  },
  {
   "cell_type": "code",
   "execution_count": null,
   "id": "50d6b79e-fb2d-4756-bc2f-c3612b95def0",
   "metadata": {},
   "outputs": [],
   "source": [
    "plot_boundary(global_eq_qs, figsize=(6,6))\n",
    "plot_boozer_surface(global_eq_qs, figsize=(6,6))\n",
    "plot_3d(global_eq_qs, \"|B|\", figsize=(6,6))"
   ]
  },
  {
   "cell_type": "code",
   "execution_count": null,
   "id": "f6dafff4-1fd8-417a-829e-92fc14f80df0",
   "metadata": {},
   "outputs": [],
   "source": []
  }
 ],
 "metadata": {
  "kernelspec": {
   "display_name": "Python 3 (ipykernel)",
   "language": "python",
   "name": "python3"
  },
  "language_info": {
   "codemirror_mode": {
    "name": "ipython",
    "version": 3
   },
   "file_extension": ".py",
   "mimetype": "text/x-python",
   "name": "python",
   "nbconvert_exporter": "python",
   "pygments_lexer": "ipython3",
   "version": "3.13.5"
  }
 },
 "nbformat": 4,
 "nbformat_minor": 5
}
