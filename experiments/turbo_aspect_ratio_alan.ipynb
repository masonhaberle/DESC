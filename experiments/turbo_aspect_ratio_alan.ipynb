{
 "cells": [
  {
   "cell_type": "code",
   "execution_count": 1,
   "id": "fa39e1a8-c446-42e5-a3d5-a068c24d0e0f",
   "metadata": {},
   "outputs": [
    {
     "name": "stdout",
     "output_type": "stream",
     "text": [
      "DESC version 0+untagged.9463.gc6b5ccf.dirty,using JAX backend, jax version=0.4.38, jaxlib version=0.4.38, dtype=float64\n",
      "Using device: CPU, with 23.73 GB available memory\n"
     ]
    }
   ],
   "source": [
    "import numpy as np\n",
    "import matplotlib.pyplot as plt\n",
    "import desc.io\n",
    "from desc.grid import LinearGrid, ConcentricGrid\n",
    "from desc.objectives import (\n",
    "    ObjectiveFunction,\n",
    "    FixBoundaryR,\n",
    "    FixBoundaryZ,\n",
    "    FixPressure,\n",
    "    FixCurrent,\n",
    "    FixIota,\n",
    "    FixPsi,\n",
    "    AspectRatio,\n",
    "    ForceBalance,\n",
    "    QuasisymmetryTwoTerm,\n",
    "    RotationalTransform\n",
    ")\n",
    "from desc.optimize import Optimizer\n",
    "from desc.plotting import (\n",
    "    plot_grid,\n",
    "    plot_boozer_modes,\n",
    "    plot_boozer_surface,\n",
    "    plot_qs_error,\n",
    "    plot_boundaries,\n",
    "    plot_boundary,\n",
    "    plot_3d\n",
    ")\n",
    "\n",
    "from desc.equilibrium import Equilibrium\n",
    "from desc.geometry import FourierRZToroidalSurface\n",
    "from desc.profiles import PowerSeriesProfile"
   ]
  },
  {
   "cell_type": "code",
   "execution_count": 2,
   "id": "e9cb4518-1a2b-45c0-badf-e5c64af51a1b",
   "metadata": {},
   "outputs": [],
   "source": [
    "eq_fam = desc.io.load(\"inputs/nfp2_QA.h5\")\n",
    "eq_init = eq_fam[-1]\n",
    "eq_qs = eq_init.copy()"
   ]
  },
  {
   "cell_type": "code",
   "execution_count": 3,
   "id": "2b2b2998-7617-448b-a194-a20f2007fd49",
   "metadata": {},
   "outputs": [],
   "source": [
    "optimizer = Optimizer(\"lsq-exact\")\n",
    "\n",
    "grid_vol = LinearGrid(\n",
    "    M=eq_qs.M_grid,\n",
    "    N=eq_qs.N_grid,\n",
    "    NFP=eq_qs.NFP,\n",
    "    rho=np.arange(0.1,1.1,0.1),\n",
    "    sym=eq_qs.sym\n",
    ")"
   ]
  },
  {
   "cell_type": "code",
   "execution_count": 4,
   "id": "13bec8ce-778b-40bf-9f30-9533e1c317f5",
   "metadata": {},
   "outputs": [
    {
     "name": "stderr",
     "output_type": "stream",
     "text": [
      "/Users/aak572/mason_desc_branch/DESC/desc/optimize/optimizer.py:474: FutureWarning: \n",
      "                Nonlinear constraints detected but method lsq-exact does not support\n",
      "                nonlinear constraints. Defaulting to method \"proximal-lsq-exact\"\n",
      "                In the future this will raise an error. To ignore this warning, specify\n",
      "                a wrapper \"proximal-\" to convert the nonlinearly constrained problem\n",
      "                into an unconstrained one.\n",
      "                \n",
      "  warnings.warn(\n"
     ]
    },
    {
     "name": "stdout",
     "output_type": "stream",
     "text": [
      "Building objective: aspect ratio\n",
      "Precomputing transforms\n",
      "Timer: Precomputing transforms = 443 ms\n",
      "Timer: Objective build = 488 ms\n",
      "Building objective: force\n",
      "Precomputing transforms\n",
      "Timer: Precomputing transforms = 493 ms\n",
      "Timer: Objective build = 2.41 sec\n",
      "Timer: Proximal projection build = 8.41 sec\n",
      "Building objective: lcfs R\n",
      "Building objective: lcfs Z\n",
      "Building objective: fixed Psi\n",
      "Building objective: fixed pressure\n",
      "Building objective: fixed current\n",
      "Building objective: fixed sheet current\n",
      "Timer: Objective build = 1.01 sec\n",
      "Timer: Linear constraint projection build = 663 ms\n"
     ]
    },
    {
     "name": "stderr",
     "output_type": "stream",
     "text": [
      "/Users/aak572/mason_desc_branch/DESC/desc/optimize/optimizer.py:261: UserWarning: method lsq-exact is not intended for scalar objective function\n",
      "  warnings.warn(\n"
     ]
    },
    {
     "name": "stdout",
     "output_type": "stream",
     "text": [
      "Number of parameters: 0\n",
      "Number of objectives: 1\n",
      "Starting optimization\n",
      "Using method: lsq-exact\n"
     ]
    },
    {
     "ename": "ValueError",
     "evalue": "zero-size array to reduction operation max which has no identity",
     "output_type": "error",
     "traceback": [
      "\u001b[31m---------------------------------------------------------------------------\u001b[39m",
      "\u001b[31mValueError\u001b[39m                                Traceback (most recent call last)",
      "\u001b[36mCell\u001b[39m\u001b[36m \u001b[39m\u001b[32mIn[4]\u001b[39m\u001b[32m, line 28\u001b[39m\n\u001b[32m     19\u001b[39m Zbounds = (-zub, zub)\n\u001b[32m     21\u001b[39m constraints = (\n\u001b[32m     22\u001b[39m     FixBoundaryR(eq=eq_qs, modes=fixed_R_modes),\n\u001b[32m     23\u001b[39m     FixBoundaryZ(eq=eq_qs, modes=fixed_Z_modes),\n\u001b[32m   (...)\u001b[39m\u001b[32m     26\u001b[39m     FixCurrent(eq=eq_qs),\n\u001b[32m     27\u001b[39m )    \n\u001b[32m---> \u001b[39m\u001b[32m28\u001b[39m eq_qs, result = \u001b[43meq_qs\u001b[49m\u001b[43m.\u001b[49m\u001b[43moptimize\u001b[49m\u001b[43m(\u001b[49m\n\u001b[32m     29\u001b[39m \u001b[43m    \u001b[49m\u001b[43mobjective\u001b[49m\u001b[43m=\u001b[49m\u001b[43mobjective_f\u001b[49m\u001b[43m,\u001b[49m\n\u001b[32m     30\u001b[39m \u001b[43m    \u001b[49m\u001b[38;5;66;43;03m# constraints=constraints,\u001b[39;49;00m\n\u001b[32m     31\u001b[39m \u001b[43m    \u001b[49m\u001b[43moptimizer\u001b[49m\u001b[43m=\u001b[49m\u001b[43moptimizer\u001b[49m\u001b[43m,\u001b[49m\n\u001b[32m     32\u001b[39m \u001b[43m    \u001b[49m\u001b[43mcopy\u001b[49m\u001b[43m=\u001b[49m\u001b[38;5;28;43;01mTrue\u001b[39;49;00m\u001b[43m,\u001b[49m\n\u001b[32m     33\u001b[39m \u001b[43m    \u001b[49m\u001b[43mx_scale\u001b[49m\u001b[43m \u001b[49m\u001b[43m=\u001b[49m\u001b[43m \u001b[49m\u001b[43mnp\u001b[49m\u001b[43m.\u001b[49m\u001b[43mones\u001b[49m\u001b[43m(\u001b[49m\u001b[32;43m106\u001b[39;49m\u001b[43m)\u001b[49m\u001b[43m,\u001b[49m\n\u001b[32m     34\u001b[39m \u001b[43m    \u001b[49m\u001b[43mverbose\u001b[49m\u001b[43m=\u001b[49m\u001b[32;43m2\u001b[39;49m\u001b[43m,\u001b[49m\n\u001b[32m     35\u001b[39m \u001b[43m    \u001b[49m\u001b[43mmaxiter\u001b[49m\u001b[43m=\u001b[49m\u001b[32;43m20\u001b[39;49m\u001b[43m,\u001b[49m\n\u001b[32m     36\u001b[39m \u001b[43m    \u001b[49m\u001b[43moptions\u001b[49m\u001b[43m=\u001b[49m\u001b[43m{\u001b[49m\u001b[43m}\u001b[49m\n\u001b[32m     37\u001b[39m \u001b[43m\u001b[49m\u001b[43m)\u001b[49m\n",
      "\u001b[36mFile \u001b[39m\u001b[32m~/mason_desc_branch/DESC/desc/equilibrium/equilibrium.py:2137\u001b[39m, in \u001b[36mEquilibrium.optimize\u001b[39m\u001b[34m(self, objective, constraints, optimizer, ftol, xtol, gtol, ctol, maxiter, x_scale, options, verbose, copy)\u001b[39m\n\u001b[32m   2134\u001b[39m \u001b[38;5;28;01mif\u001b[39;00m \u001b[38;5;129;01mnot\u001b[39;00m \u001b[38;5;28misinstance\u001b[39m(constraints, (\u001b[38;5;28mlist\u001b[39m, \u001b[38;5;28mtuple\u001b[39m)):\n\u001b[32m   2135\u001b[39m     constraints = \u001b[38;5;28mtuple\u001b[39m([constraints])\n\u001b[32m-> \u001b[39m\u001b[32m2137\u001b[39m things, result = \u001b[43moptimizer\u001b[49m\u001b[43m.\u001b[49m\u001b[43moptimize\u001b[49m\u001b[43m(\u001b[49m\n\u001b[32m   2138\u001b[39m \u001b[43m    \u001b[49m\u001b[38;5;28;43mself\u001b[39;49m\u001b[43m,\u001b[49m\n\u001b[32m   2139\u001b[39m \u001b[43m    \u001b[49m\u001b[43mobjective\u001b[49m\u001b[43m,\u001b[49m\n\u001b[32m   2140\u001b[39m \u001b[43m    \u001b[49m\u001b[43mconstraints\u001b[49m\u001b[43m,\u001b[49m\n\u001b[32m   2141\u001b[39m \u001b[43m    \u001b[49m\u001b[43mftol\u001b[49m\u001b[43m=\u001b[49m\u001b[43mftol\u001b[49m\u001b[43m,\u001b[49m\n\u001b[32m   2142\u001b[39m \u001b[43m    \u001b[49m\u001b[43mxtol\u001b[49m\u001b[43m=\u001b[49m\u001b[43mxtol\u001b[49m\u001b[43m,\u001b[49m\n\u001b[32m   2143\u001b[39m \u001b[43m    \u001b[49m\u001b[43mgtol\u001b[49m\u001b[43m=\u001b[49m\u001b[43mgtol\u001b[49m\u001b[43m,\u001b[49m\n\u001b[32m   2144\u001b[39m \u001b[43m    \u001b[49m\u001b[43mctol\u001b[49m\u001b[43m=\u001b[49m\u001b[43mctol\u001b[49m\u001b[43m,\u001b[49m\n\u001b[32m   2145\u001b[39m \u001b[43m    \u001b[49m\u001b[43mx_scale\u001b[49m\u001b[43m=\u001b[49m\u001b[43mx_scale\u001b[49m\u001b[43m,\u001b[49m\n\u001b[32m   2146\u001b[39m \u001b[43m    \u001b[49m\u001b[43mverbose\u001b[49m\u001b[43m=\u001b[49m\u001b[43mverbose\u001b[49m\u001b[43m,\u001b[49m\n\u001b[32m   2147\u001b[39m \u001b[43m    \u001b[49m\u001b[43mmaxiter\u001b[49m\u001b[43m=\u001b[49m\u001b[43mmaxiter\u001b[49m\u001b[43m,\u001b[49m\n\u001b[32m   2148\u001b[39m \u001b[43m    \u001b[49m\u001b[43moptions\u001b[49m\u001b[43m=\u001b[49m\u001b[43moptions\u001b[49m\u001b[43m,\u001b[49m\n\u001b[32m   2149\u001b[39m \u001b[43m    \u001b[49m\u001b[43mcopy\u001b[49m\u001b[43m=\u001b[49m\u001b[43mcopy\u001b[49m\u001b[43m,\u001b[49m\n\u001b[32m   2150\u001b[39m \u001b[43m\u001b[49m\u001b[43m)\u001b[49m\n\u001b[32m   2152\u001b[39m \u001b[38;5;28;01mreturn\u001b[39;00m things[\u001b[32m0\u001b[39m], result\n",
      "\u001b[36mFile \u001b[39m\u001b[32m~/mason_desc_branch/DESC/desc/optimize/optimizer.py:306\u001b[39m, in \u001b[36mOptimizer.optimize\u001b[39m\u001b[34m(self, things, objective, constraints, ftol, xtol, gtol, ctol, x_scale, verbose, maxiter, options, copy)\u001b[39m\n\u001b[32m    302\u001b[39m     \u001b[38;5;28mprint\u001b[39m(\u001b[33m\"\u001b[39m\u001b[33mUsing method: \u001b[39m\u001b[33m\"\u001b[39m + \u001b[38;5;28mstr\u001b[39m(\u001b[38;5;28mself\u001b[39m.method))\n\u001b[32m    304\u001b[39m timer.start(\u001b[33m\"\u001b[39m\u001b[33mSolution time\u001b[39m\u001b[33m\"\u001b[39m)\n\u001b[32m--> \u001b[39m\u001b[32m306\u001b[39m result = \u001b[43moptimizers\u001b[49m\u001b[43m[\u001b[49m\u001b[43mmethod\u001b[49m\u001b[43m]\u001b[49m\u001b[43m[\u001b[49m\u001b[33;43m\"\u001b[39;49m\u001b[33;43mfun\u001b[39;49m\u001b[33;43m\"\u001b[39;49m\u001b[43m]\u001b[49m\u001b[43m(\u001b[49m\n\u001b[32m    307\u001b[39m \u001b[43m    \u001b[49m\u001b[43mobjective\u001b[49m\u001b[43m,\u001b[49m\n\u001b[32m    308\u001b[39m \u001b[43m    \u001b[49m\u001b[43mnonlinear_constraint\u001b[49m\u001b[43m,\u001b[49m\n\u001b[32m    309\u001b[39m \u001b[43m    \u001b[49m\u001b[43mx0\u001b[49m\u001b[43m,\u001b[49m\n\u001b[32m    310\u001b[39m \u001b[43m    \u001b[49m\u001b[43mmethod\u001b[49m\u001b[43m,\u001b[49m\n\u001b[32m    311\u001b[39m \u001b[43m    \u001b[49m\u001b[43mx_scale\u001b[49m\u001b[43m,\u001b[49m\n\u001b[32m    312\u001b[39m \u001b[43m    \u001b[49m\u001b[43mverbose\u001b[49m\u001b[43m,\u001b[49m\n\u001b[32m    313\u001b[39m \u001b[43m    \u001b[49m\u001b[43mstoptol\u001b[49m\u001b[43m,\u001b[49m\n\u001b[32m    314\u001b[39m \u001b[43m    \u001b[49m\u001b[43moptions\u001b[49m\u001b[43m,\u001b[49m\n\u001b[32m    315\u001b[39m \u001b[43m\u001b[49m\u001b[43m)\u001b[49m\n\u001b[32m    317\u001b[39m \u001b[38;5;28;01mif\u001b[39;00m \u001b[38;5;28misinstance\u001b[39m(objective, LinearConstraintProjection):\n\u001b[32m    318\u001b[39m     \u001b[38;5;66;03m# remove wrapper to get at underlying objective\u001b[39;00m\n\u001b[32m    319\u001b[39m     result[\u001b[33m\"\u001b[39m\u001b[33mallx\u001b[39m\u001b[33m\"\u001b[39m] = [objective.recover(x) \u001b[38;5;28;01mfor\u001b[39;00m x \u001b[38;5;129;01min\u001b[39;00m result[\u001b[33m\"\u001b[39m\u001b[33mallx\u001b[39m\u001b[33m\"\u001b[39m]]\n",
      "\u001b[36mFile \u001b[39m\u001b[32m~/mason_desc_branch/DESC/desc/optimize/_desc_wrappers.py:276\u001b[39m, in \u001b[36m_optimize_desc_least_squares\u001b[39m\u001b[34m(objective, constraint, x0, method, x_scale, verbose, stoptol, options)\u001b[39m\n\u001b[32m    273\u001b[39m     options.setdefault(\u001b[33m\"\u001b[39m\u001b[33minitial_trust_ratio\u001b[39m\u001b[33m\"\u001b[39m, \u001b[32m0.1\u001b[39m)\n\u001b[32m    274\u001b[39m options[\u001b[33m\"\u001b[39m\u001b[33mmax_nfev\u001b[39m\u001b[33m\"\u001b[39m] = stoptol[\u001b[33m\"\u001b[39m\u001b[33mmax_nfev\u001b[39m\u001b[33m\"\u001b[39m]\n\u001b[32m--> \u001b[39m\u001b[32m276\u001b[39m result = \u001b[43mlsqtr\u001b[49m\u001b[43m(\u001b[49m\n\u001b[32m    277\u001b[39m \u001b[43m    \u001b[49m\u001b[43mobjective\u001b[49m\u001b[43m.\u001b[49m\u001b[43mcompute_scaled_error\u001b[49m\u001b[43m,\u001b[49m\n\u001b[32m    278\u001b[39m \u001b[43m    \u001b[49m\u001b[43mx0\u001b[49m\u001b[43m=\u001b[49m\u001b[43mx0\u001b[49m\u001b[43m,\u001b[49m\n\u001b[32m    279\u001b[39m \u001b[43m    \u001b[49m\u001b[43mjac\u001b[49m\u001b[43m=\u001b[49m\u001b[43mobjective\u001b[49m\u001b[43m.\u001b[49m\u001b[43mjac_scaled_error\u001b[49m\u001b[43m,\u001b[49m\n\u001b[32m    280\u001b[39m \u001b[43m    \u001b[49m\u001b[43margs\u001b[49m\u001b[43m=\u001b[49m\u001b[43m(\u001b[49m\u001b[43mobjective\u001b[49m\u001b[43m.\u001b[49m\u001b[43mconstants\u001b[49m\u001b[43m,\u001b[49m\u001b[43m)\u001b[49m\u001b[43m,\u001b[49m\n\u001b[32m    281\u001b[39m \u001b[43m    \u001b[49m\u001b[43mx_scale\u001b[49m\u001b[43m=\u001b[49m\u001b[43mx_scale\u001b[49m\u001b[43m,\u001b[49m\n\u001b[32m    282\u001b[39m \u001b[43m    \u001b[49m\u001b[43mftol\u001b[49m\u001b[43m=\u001b[49m\u001b[43mstoptol\u001b[49m\u001b[43m[\u001b[49m\u001b[33;43m\"\u001b[39;49m\u001b[33;43mftol\u001b[39;49m\u001b[33;43m\"\u001b[39;49m\u001b[43m]\u001b[49m\u001b[43m,\u001b[49m\n\u001b[32m    283\u001b[39m \u001b[43m    \u001b[49m\u001b[43mxtol\u001b[49m\u001b[43m=\u001b[49m\u001b[43mstoptol\u001b[49m\u001b[43m[\u001b[49m\u001b[33;43m\"\u001b[39;49m\u001b[33;43mxtol\u001b[39;49m\u001b[33;43m\"\u001b[39;49m\u001b[43m]\u001b[49m\u001b[43m,\u001b[49m\n\u001b[32m    284\u001b[39m \u001b[43m    \u001b[49m\u001b[43mgtol\u001b[49m\u001b[43m=\u001b[49m\u001b[43mstoptol\u001b[49m\u001b[43m[\u001b[49m\u001b[33;43m\"\u001b[39;49m\u001b[33;43mgtol\u001b[39;49m\u001b[33;43m\"\u001b[39;49m\u001b[43m]\u001b[49m\u001b[43m,\u001b[49m\n\u001b[32m    285\u001b[39m \u001b[43m    \u001b[49m\u001b[43mmaxiter\u001b[49m\u001b[43m=\u001b[49m\u001b[43mstoptol\u001b[49m\u001b[43m[\u001b[49m\u001b[33;43m\"\u001b[39;49m\u001b[33;43mmaxiter\u001b[39;49m\u001b[33;43m\"\u001b[39;49m\u001b[43m]\u001b[49m\u001b[43m,\u001b[49m\n\u001b[32m    286\u001b[39m \u001b[43m    \u001b[49m\u001b[43mverbose\u001b[49m\u001b[43m=\u001b[49m\u001b[43mverbose\u001b[49m\u001b[43m,\u001b[49m\n\u001b[32m    287\u001b[39m \u001b[43m    \u001b[49m\u001b[43mcallback\u001b[49m\u001b[43m=\u001b[49m\u001b[38;5;28;43;01mNone\u001b[39;49;00m\u001b[43m,\u001b[49m\n\u001b[32m    288\u001b[39m \u001b[43m    \u001b[49m\u001b[43moptions\u001b[49m\u001b[43m=\u001b[49m\u001b[43moptions\u001b[49m\u001b[43m,\u001b[49m\n\u001b[32m    289\u001b[39m \u001b[43m\u001b[49m\u001b[43m)\u001b[49m\n\u001b[32m    290\u001b[39m \u001b[38;5;28;01mreturn\u001b[39;00m result\n",
      "\u001b[36mFile \u001b[39m\u001b[32m~/mason_desc_branch/DESC/desc/optimize/least_squares.py:200\u001b[39m, in \u001b[36mlsqtr\u001b[39m\u001b[34m(fun, x0, jac, bounds, args, x_scale, ftol, xtol, gtol, verbose, maxiter, callback, options)\u001b[39m\n\u001b[32m    198\u001b[39m g_h = g * d\n\u001b[32m    199\u001b[39m J_h = J * d\n\u001b[32m--> \u001b[39m\u001b[32m200\u001b[39m g_norm = \u001b[43mjnp\u001b[49m\u001b[43m.\u001b[49m\u001b[43mlinalg\u001b[49m\u001b[43m.\u001b[49m\u001b[43mnorm\u001b[49m\u001b[43m(\u001b[49m\u001b[43mg\u001b[49m\u001b[43m \u001b[49m\u001b[43m*\u001b[49m\u001b[43m \u001b[49m\u001b[43mv\u001b[49m\u001b[43m,\u001b[49m\u001b[43m \u001b[49m\u001b[38;5;28;43mord\u001b[39;49m\u001b[43m=\u001b[49m\u001b[43mjnp\u001b[49m\u001b[43m.\u001b[49m\u001b[43minf\u001b[49m\u001b[43m)\u001b[49m\n\u001b[32m    202\u001b[39m \u001b[38;5;66;03m# conngould : norm of the cauchy point, as recommended in ch17 of Conn & Gould\u001b[39;00m\n\u001b[32m    203\u001b[39m \u001b[38;5;66;03m# scipy : norm of the scaled x, as used in scipy\u001b[39;00m\n\u001b[32m    204\u001b[39m \u001b[38;5;66;03m# mix : geometric mean of conngould and scipy\u001b[39;00m\n\u001b[32m    205\u001b[39m init_tr = {\n\u001b[32m    206\u001b[39m     \u001b[33m\"\u001b[39m\u001b[33mscipy\u001b[39m\u001b[33m\"\u001b[39m: jnp.linalg.norm(x * scale_inv / v**\u001b[32m0.5\u001b[39m),\n\u001b[32m    207\u001b[39m     \u001b[33m\"\u001b[39m\u001b[33mconngould\u001b[39m\u001b[33m\"\u001b[39m: jnp.sum(g_h**\u001b[32m2\u001b[39m) / jnp.sum((J_h @ g_h) ** \u001b[32m2\u001b[39m),\n\u001b[32m   (...)\u001b[39m\u001b[32m    212\u001b[39m     ),\n\u001b[32m    213\u001b[39m }\n",
      "    \u001b[31m[... skipping hidden 15 frame]\u001b[39m\n",
      "\u001b[36mFile \u001b[39m\u001b[32m/opt/miniconda3/envs/mason_env/lib/python3.11/site-packages/jax/_src/numpy/linalg.py:1162\u001b[39m, in \u001b[36mnorm\u001b[39m\u001b[34m(x, ord, axis, keepdims)\u001b[39m\n\u001b[32m   1160\u001b[39m num_axes = \u001b[38;5;28mlen\u001b[39m(axis)\n\u001b[32m   1161\u001b[39m \u001b[38;5;28;01mif\u001b[39;00m num_axes == \u001b[32m1\u001b[39m:\n\u001b[32m-> \u001b[39m\u001b[32m1162\u001b[39m   \u001b[38;5;28;01mreturn\u001b[39;00m \u001b[43mvector_norm\u001b[49m\u001b[43m(\u001b[49m\u001b[43mx\u001b[49m\u001b[43m,\u001b[49m\u001b[43m \u001b[49m\u001b[38;5;28;43mord\u001b[39;49m\u001b[43m=\u001b[49m\u001b[32;43m2\u001b[39;49m\u001b[43m \u001b[49m\u001b[38;5;28;43;01mif\u001b[39;49;00m\u001b[43m \u001b[49m\u001b[38;5;28;43mord\u001b[39;49m\u001b[43m \u001b[49m\u001b[38;5;129;43;01mis\u001b[39;49;00m\u001b[43m \u001b[49m\u001b[38;5;28;43;01mNone\u001b[39;49;00m\u001b[43m \u001b[49m\u001b[38;5;28;43;01melse\u001b[39;49;00m\u001b[43m \u001b[49m\u001b[38;5;28;43mord\u001b[39;49m\u001b[43m,\u001b[49m\u001b[43m \u001b[49m\u001b[43maxis\u001b[49m\u001b[43m=\u001b[49m\u001b[43maxis\u001b[49m\u001b[43m,\u001b[49m\u001b[43m \u001b[49m\u001b[43mkeepdims\u001b[49m\u001b[43m=\u001b[49m\u001b[43mkeepdims\u001b[49m\u001b[43m)\u001b[49m\n\u001b[32m   1164\u001b[39m \u001b[38;5;28;01melif\u001b[39;00m num_axes == \u001b[32m2\u001b[39m:\n\u001b[32m   1165\u001b[39m   row_axis, col_axis = axis  \u001b[38;5;66;03m# pytype: disable=bad-unpacking\u001b[39;00m\n",
      "\u001b[36mFile \u001b[39m\u001b[32m/opt/miniconda3/envs/mason_env/lib/python3.11/site-packages/jax/_src/numpy/linalg.py:1647\u001b[39m, in \u001b[36mvector_norm\u001b[39m\u001b[34m(x, axis, keepdims, ord)\u001b[39m\n\u001b[32m   1644\u001b[39m   \u001b[38;5;28;01mreturn\u001b[39;00m ufuncs.sqrt(reductions.sum(ufuncs.real(x * ufuncs.conj(x)), axis=axis,\n\u001b[32m   1645\u001b[39m                                     keepdims=keepdims))\n\u001b[32m   1646\u001b[39m \u001b[38;5;28;01melif\u001b[39;00m \u001b[38;5;28mord\u001b[39m == jnp.inf:\n\u001b[32m-> \u001b[39m\u001b[32m1647\u001b[39m   \u001b[38;5;28;01mreturn\u001b[39;00m \u001b[43mreductions\u001b[49m\u001b[43m.\u001b[49m\u001b[43mamax\u001b[49m\u001b[43m(\u001b[49m\u001b[43mufuncs\u001b[49m\u001b[43m.\u001b[49m\u001b[43mabs\u001b[49m\u001b[43m(\u001b[49m\u001b[43mx\u001b[49m\u001b[43m)\u001b[49m\u001b[43m,\u001b[49m\u001b[43m \u001b[49m\u001b[43maxis\u001b[49m\u001b[43m=\u001b[49m\u001b[43maxis\u001b[49m\u001b[43m,\u001b[49m\u001b[43m \u001b[49m\u001b[43mkeepdims\u001b[49m\u001b[43m=\u001b[49m\u001b[43mkeepdims\u001b[49m\u001b[43m)\u001b[49m\n\u001b[32m   1648\u001b[39m \u001b[38;5;28;01melif\u001b[39;00m \u001b[38;5;28mord\u001b[39m == -jnp.inf:\n\u001b[32m   1649\u001b[39m   \u001b[38;5;28;01mreturn\u001b[39;00m reductions.amin(ufuncs.abs(x), axis=axis, keepdims=keepdims)\n",
      "\u001b[36mFile \u001b[39m\u001b[32m/opt/miniconda3/envs/mason_env/lib/python3.11/site-packages/jax/_src/numpy/reductions.py:790\u001b[39m, in \u001b[36mamax\u001b[39m\u001b[34m(a, axis, out, keepdims, initial, where)\u001b[39m\n\u001b[32m    785\u001b[39m \u001b[38;5;129m@export\u001b[39m\n\u001b[32m    786\u001b[39m \u001b[38;5;28;01mdef\u001b[39;00m\u001b[38;5;250m \u001b[39m\u001b[34mamax\u001b[39m(a: ArrayLike, axis: Axis = \u001b[38;5;28;01mNone\u001b[39;00m, out: \u001b[38;5;28;01mNone\u001b[39;00m = \u001b[38;5;28;01mNone\u001b[39;00m,\n\u001b[32m    787\u001b[39m         keepdims: \u001b[38;5;28mbool\u001b[39m = \u001b[38;5;28;01mFalse\u001b[39;00m, initial: ArrayLike | \u001b[38;5;28;01mNone\u001b[39;00m = \u001b[38;5;28;01mNone\u001b[39;00m,\n\u001b[32m    788\u001b[39m         where: ArrayLike | \u001b[38;5;28;01mNone\u001b[39;00m = \u001b[38;5;28;01mNone\u001b[39;00m) -> Array:\n\u001b[32m    789\u001b[39m \u001b[38;5;250m  \u001b[39m\u001b[33;03m\"\"\"Alias of :func:`jax.numpy.max`.\"\"\"\u001b[39;00m\n\u001b[32m--> \u001b[39m\u001b[32m790\u001b[39m   \u001b[38;5;28;01mreturn\u001b[39;00m \u001b[38;5;28;43mmax\u001b[39;49m\u001b[43m(\u001b[49m\u001b[43ma\u001b[49m\u001b[43m,\u001b[49m\u001b[43m \u001b[49m\u001b[43maxis\u001b[49m\u001b[43m=\u001b[49m\u001b[43maxis\u001b[49m\u001b[43m,\u001b[49m\u001b[43m \u001b[49m\u001b[43mout\u001b[49m\u001b[43m=\u001b[49m\u001b[43mout\u001b[49m\u001b[43m,\u001b[49m\u001b[43m \u001b[49m\u001b[43mkeepdims\u001b[49m\u001b[43m=\u001b[49m\u001b[43mkeepdims\u001b[49m\u001b[43m,\u001b[49m\n\u001b[32m    791\u001b[39m \u001b[43m             \u001b[49m\u001b[43minitial\u001b[49m\u001b[43m=\u001b[49m\u001b[43minitial\u001b[49m\u001b[43m,\u001b[49m\u001b[43m \u001b[49m\u001b[43mwhere\u001b[49m\u001b[43m=\u001b[49m\u001b[43mwhere\u001b[49m\u001b[43m)\u001b[49m\n",
      "\u001b[36mFile \u001b[39m\u001b[32m/opt/miniconda3/envs/mason_env/lib/python3.11/site-packages/jax/_src/numpy/reductions.py:485\u001b[39m, in \u001b[36mmax\u001b[39m\u001b[34m(a, axis, out, keepdims, initial, where)\u001b[39m\n\u001b[32m    414\u001b[39m \u001b[38;5;129m@export\u001b[39m\n\u001b[32m    415\u001b[39m \u001b[38;5;28;01mdef\u001b[39;00m\u001b[38;5;250m \u001b[39m\u001b[34mmax\u001b[39m(a: ArrayLike, axis: Axis = \u001b[38;5;28;01mNone\u001b[39;00m, out: \u001b[38;5;28;01mNone\u001b[39;00m = \u001b[38;5;28;01mNone\u001b[39;00m,\n\u001b[32m    416\u001b[39m         keepdims: \u001b[38;5;28mbool\u001b[39m = \u001b[38;5;28;01mFalse\u001b[39;00m, initial: ArrayLike | \u001b[38;5;28;01mNone\u001b[39;00m = \u001b[38;5;28;01mNone\u001b[39;00m,\n\u001b[32m    417\u001b[39m         where: ArrayLike | \u001b[38;5;28;01mNone\u001b[39;00m = \u001b[38;5;28;01mNone\u001b[39;00m) -> Array:\n\u001b[32m    418\u001b[39m \u001b[38;5;250m  \u001b[39m\u001b[33mr\u001b[39m\u001b[33;03m\"\"\"Return the maximum of the array elements along a given axis.\u001b[39;00m\n\u001b[32m    419\u001b[39m \n\u001b[32m    420\u001b[39m \u001b[33;03m  JAX implementation of :func:`numpy.max`.\u001b[39;00m\n\u001b[32m   (...)\u001b[39m\u001b[32m    483\u001b[39m \u001b[33;03m    Array([[0, 0, 0, 0]], dtype=int32)\u001b[39;00m\n\u001b[32m    484\u001b[39m \u001b[33;03m  \"\"\"\u001b[39;00m\n\u001b[32m--> \u001b[39m\u001b[32m485\u001b[39m   \u001b[38;5;28;01mreturn\u001b[39;00m \u001b[43m_reduce_max\u001b[49m\u001b[43m(\u001b[49m\u001b[43ma\u001b[49m\u001b[43m,\u001b[49m\u001b[43m \u001b[49m\u001b[43maxis\u001b[49m\u001b[43m=\u001b[49m\u001b[43m_ensure_optional_axes\u001b[49m\u001b[43m(\u001b[49m\u001b[43maxis\u001b[49m\u001b[43m)\u001b[49m\u001b[43m,\u001b[49m\u001b[43m \u001b[49m\u001b[43mout\u001b[49m\u001b[43m=\u001b[49m\u001b[43mout\u001b[49m\u001b[43m,\u001b[49m\n\u001b[32m    486\u001b[39m \u001b[43m                     \u001b[49m\u001b[43mkeepdims\u001b[49m\u001b[43m=\u001b[49m\u001b[43mkeepdims\u001b[49m\u001b[43m,\u001b[49m\u001b[43m \u001b[49m\u001b[43minitial\u001b[49m\u001b[43m=\u001b[49m\u001b[43minitial\u001b[49m\u001b[43m,\u001b[49m\u001b[43m \u001b[49m\u001b[43mwhere\u001b[49m\u001b[43m=\u001b[49m\u001b[43mwhere\u001b[49m\u001b[43m)\u001b[49m\n",
      "    \u001b[31m[... skipping hidden 15 frame]\u001b[39m\n",
      "\u001b[36mFile \u001b[39m\u001b[32m/opt/miniconda3/envs/mason_env/lib/python3.11/site-packages/jax/_src/numpy/reductions.py:409\u001b[39m, in \u001b[36m_reduce_max\u001b[39m\u001b[34m(a, axis, out, keepdims, initial, where)\u001b[39m\n\u001b[32m    405\u001b[39m \u001b[38;5;129m@partial\u001b[39m(api.jit, static_argnames=(\u001b[33m'\u001b[39m\u001b[33maxis\u001b[39m\u001b[33m'\u001b[39m, \u001b[33m'\u001b[39m\u001b[33mkeepdims\u001b[39m\u001b[33m'\u001b[39m), inline=\u001b[38;5;28;01mTrue\u001b[39;00m)\n\u001b[32m    406\u001b[39m \u001b[38;5;28;01mdef\u001b[39;00m\u001b[38;5;250m \u001b[39m\u001b[34m_reduce_max\u001b[39m(a: ArrayLike, axis: Axis = \u001b[38;5;28;01mNone\u001b[39;00m, out: \u001b[38;5;28;01mNone\u001b[39;00m = \u001b[38;5;28;01mNone\u001b[39;00m,\n\u001b[32m    407\u001b[39m                 keepdims: \u001b[38;5;28mbool\u001b[39m = \u001b[38;5;28;01mFalse\u001b[39;00m, initial: ArrayLike | \u001b[38;5;28;01mNone\u001b[39;00m = \u001b[38;5;28;01mNone\u001b[39;00m,\n\u001b[32m    408\u001b[39m                 where: ArrayLike | \u001b[38;5;28;01mNone\u001b[39;00m = \u001b[38;5;28;01mNone\u001b[39;00m) -> Array:\n\u001b[32m--> \u001b[39m\u001b[32m409\u001b[39m   \u001b[38;5;28;01mreturn\u001b[39;00m \u001b[43m_reduction\u001b[49m\u001b[43m(\u001b[49m\u001b[43ma\u001b[49m\u001b[43m,\u001b[49m\u001b[43m \u001b[49m\u001b[33;43m\"\u001b[39;49m\u001b[33;43mmax\u001b[39;49m\u001b[33;43m\"\u001b[39;49m\u001b[43m,\u001b[49m\u001b[43m \u001b[49m\u001b[43mlax\u001b[49m\u001b[43m.\u001b[49m\u001b[43mmax\u001b[49m\u001b[43m,\u001b[49m\u001b[43m \u001b[49m\u001b[43m-\u001b[49m\u001b[43mnp\u001b[49m\u001b[43m.\u001b[49m\u001b[43minf\u001b[49m\u001b[43m,\u001b[49m\u001b[43m \u001b[49m\u001b[43mhas_identity\u001b[49m\u001b[43m=\u001b[49m\u001b[38;5;28;43;01mFalse\u001b[39;49;00m\u001b[43m,\u001b[49m\n\u001b[32m    410\u001b[39m \u001b[43m                    \u001b[49m\u001b[43maxis\u001b[49m\u001b[43m=\u001b[49m\u001b[43maxis\u001b[49m\u001b[43m,\u001b[49m\u001b[43m \u001b[49m\u001b[43mout\u001b[49m\u001b[43m=\u001b[49m\u001b[43mout\u001b[49m\u001b[43m,\u001b[49m\u001b[43m \u001b[49m\u001b[43mkeepdims\u001b[49m\u001b[43m=\u001b[49m\u001b[43mkeepdims\u001b[49m\u001b[43m,\u001b[49m\n\u001b[32m    411\u001b[39m \u001b[43m                    \u001b[49m\u001b[43minitial\u001b[49m\u001b[43m=\u001b[49m\u001b[43minitial\u001b[49m\u001b[43m,\u001b[49m\u001b[43m \u001b[49m\u001b[43mwhere_\u001b[49m\u001b[43m=\u001b[49m\u001b[43mwhere\u001b[49m\u001b[43m,\u001b[49m\u001b[43m \u001b[49m\u001b[43mparallel_reduce\u001b[49m\u001b[43m=\u001b[49m\u001b[43mlax\u001b[49m\u001b[43m.\u001b[49m\u001b[43mpmax\u001b[49m\u001b[43m)\u001b[49m\n",
      "\u001b[36mFile \u001b[39m\u001b[32m/opt/miniconda3/envs/mason_env/lib/python3.11/site-packages/jax/_src/numpy/reductions.py:133\u001b[39m, in \u001b[36m_reduction\u001b[39m\u001b[34m(a, name, op, init_val, has_identity, preproc, bool_op, upcast_f16_for_computation, axis, dtype, out, keepdims, initial, where_, parallel_reduce, promote_integers)\u001b[39m\n\u001b[32m    131\u001b[39m   shape = np.shape(a)\n\u001b[32m    132\u001b[39m   \u001b[38;5;28;01mif\u001b[39;00m \u001b[38;5;129;01mnot\u001b[39;00m _all(shape[d] >= \u001b[32m1\u001b[39m \u001b[38;5;28;01mfor\u001b[39;00m d \u001b[38;5;129;01min\u001b[39;00m pos_dims):\n\u001b[32m--> \u001b[39m\u001b[32m133\u001b[39m     \u001b[38;5;28;01mraise\u001b[39;00m \u001b[38;5;167;01mValueError\u001b[39;00m(\u001b[33mf\u001b[39m\u001b[33m\"\u001b[39m\u001b[33mzero-size array to reduction operation \u001b[39m\u001b[38;5;132;01m{\u001b[39;00mname\u001b[38;5;132;01m}\u001b[39;00m\u001b[33m which has no identity\u001b[39m\u001b[33m\"\u001b[39m)\n\u001b[32m    135\u001b[39m result_dtype = dtype \u001b[38;5;129;01mor\u001b[39;00m dtypes.dtype(a)\n\u001b[32m    137\u001b[39m \u001b[38;5;28;01mif\u001b[39;00m dtype \u001b[38;5;129;01mis\u001b[39;00m \u001b[38;5;28;01mNone\u001b[39;00m \u001b[38;5;129;01mand\u001b[39;00m promote_integers:\n",
      "\u001b[31mValueError\u001b[39m: zero-size array to reduction operation max which has no identity"
     ]
    }
   ],
   "source": [
    "for maxMode in range(1,2):\n",
    "    fixed_R_modes = np.vstack(([0,0,0], eq_qs.surface.R_basis.modes[np.max(np.abs(eq_qs.surface.R_basis.modes), 1) > maxMode, :]))\n",
    "    free_R_modes = eq_qs.surface.R_basis.modes[np.max(np.abs(eq_qs.surface.R_basis.modes), 1) <= maxMode, :]\n",
    "    free_R_modes = free_R_modes[np.max(np.abs(free_R_modes), 1) > 0, :]\n",
    "    \n",
    "    fixed_Z_modes = eq_qs.surface.Z_basis.modes[np.max(np.abs(eq_qs.surface.Z_basis.modes), 1) > maxMode, :]\n",
    "    free_Z_modes = eq_qs.surface.Z_basis.modes[np.max(np.abs(eq_qs.surface.Z_basis.modes), 1) <= maxMode, :]\n",
    "    constWeight = 10\n",
    "    \n",
    "    objective_f = ObjectiveFunction((\n",
    "        AspectRatio(eq=eq_qs, target=6, weight=1)\n",
    "    ))\n",
    "\n",
    "    numRbounds = len(free_R_modes)\n",
    "    numZbounds = len(free_Z_modes)\n",
    "    rub = np.ones(numRbounds)\n",
    "    zub = np.ones(numZbounds)\n",
    "    Rbounds = (-rub, rub)\n",
    "    Zbounds = (-zub, zub)\n",
    "    \n",
    "    constraints = (\n",
    "        FixBoundaryR(eq=eq_qs, modes=fixed_R_modes),\n",
    "        FixBoundaryZ(eq=eq_qs, modes=fixed_Z_modes),\n",
    "        FixPressure(eq=eq_qs),  # fix pressure profile\n",
    "        FixPsi(eq=eq_qs),\n",
    "        FixCurrent(eq=eq_qs),\n",
    "    )    \n",
    "    eq_qs, result = eq_qs.optimize(\n",
    "        objective=objective_f,\n",
    "        constraints=constraints,\n",
    "        optimizer=optimizer,\n",
    "        copy=True,\n",
    "        x_scale = np.ones(106),\n",
    "        verbose=2,\n",
    "        maxiter=20,\n",
    "        options={}\n",
    "    )\n"
   ]
  },
  {
   "cell_type": "code",
   "execution_count": null,
   "id": "0af88db5-5753-4970-a5d5-b0126c88ce69",
   "metadata": {},
   "outputs": [],
   "source": [
    "print(result.x.shape, result.allx[-1].shape)\n",
    "print(np.max(np.abs(result.allx[-1] - result.allx[0])))\n",
    "print(np.mean(np.abs(result.allx[-1] - result.allx[0])))\n",
    "print(objective_f.compute_scalar(result.allx[-1]))\n",
    "print(result.allx[-1][np.abs(result.allx[-1]) > 1e-6])\n",
    "x_temp = np.array(result.allx[-1].copy())\n",
    "x_temp[np.abs(x_temp) < 1e-6] = 0.0\n",
    "# x_temp[:120] = 0.0\n",
    "print(x_temp)\n",
    "print(objective_f.compute_scalar(x_temp))"
   ]
  },
  {
   "cell_type": "code",
   "execution_count": null,
   "id": "017b90ce-cf68-4faf-b73d-5d3c064c4a24",
   "metadata": {
    "scrolled": true
   },
   "outputs": [],
   "source": [
    "plot_boundary(eq_qs, figsize=(6,6))\n",
    "plot_boozer_surface(eq_qs, figsize=(6,6))\n",
    "plot_3d(eq_qs, \"|B|\", figsize=(6,6))"
   ]
  },
  {
   "cell_type": "code",
   "execution_count": null,
   "id": "b92030db-8777-46b0-b6c3-5cdf9ae7919f",
   "metadata": {
    "scrolled": true
   },
   "outputs": [],
   "source": [
    "eq_qs = eq_init.copy()\n",
    "objective_f = ObjectiveFunction((AspectRatio(eq=eq_qs, target=6, weight=1)))\n",
    "\n",
    "optimizer = Optimizer(\"Turbo1\")\n",
    "\n",
    "for maxMode in range(1,2):\n",
    "    fixed_R_modes = np.vstack(([0,0,0], eq_qs.surface.R_basis.modes[np.max(np.abs(eq_qs.surface.R_basis.modes), 1) > maxMode, :]))\n",
    "    free_R_modes = eq_qs.surface.R_basis.modes[np.max(np.abs(eq_qs.surface.R_basis.modes), 1) <= maxMode, :]\n",
    "    free_R_modes = free_R_modes[np.max(np.abs(free_R_modes), 1) > 0, :]\n",
    "    \n",
    "    fixed_Z_modes = eq_qs.surface.Z_basis.modes[np.max(np.abs(eq_qs.surface.Z_basis.modes), 1) > maxMode, :]\n",
    "    free_Z_modes = eq_qs.surface.Z_basis.modes[np.max(np.abs(eq_qs.surface.Z_basis.modes), 1) <= maxMode, :]\n",
    "    constWeight = 10\n",
    "    numRbounds = len(free_R_modes)\n",
    "    numZbounds = len(free_Z_modes)\n",
    "    rub = np.ones(numRbounds)\n",
    "    zub = np.ones(numZbounds)\n",
    "    Rbounds = (-rub, rub)\n",
    "    Zbounds = (-zub, zub)\n",
    "    \n",
    "    constraints = (\n",
    "        FixBoundaryR(eq=eq_qs, modes=fixed_R_modes),\n",
    "        FixBoundaryZ(eq=eq_qs, modes=fixed_Z_modes),\n",
    "        FixPressure(eq=eq_qs),  # fix pressure profile\n",
    "        FixPsi(eq=eq_qs),\n",
    "        FixCurrent(eq=eq_qs),\n",
    "    )    \n",
    "    global_eq_qs, result = eq_qs.optimize(\n",
    "        objective=objective_f,\n",
    "        # constraints=constraints,\n",
    "        optimizer=optimizer,\n",
    "        copy=True,\n",
    "        x_scale = np.ones(106),\n",
    "        verbose=2,\n",
    "        maxiter=10000,\n",
    "        options={\"trust_regions\":1, \"box_size\":1e-5, \"training_steps\": 500, \"batch_size\":200}\n",
    "    )"
   ]
  },
  {
   "cell_type": "code",
   "execution_count": null,
   "id": "eaad8565-b4be-4e2c-bdf1-582d32a9bfd7",
   "metadata": {},
   "outputs": [],
   "source": [
    "print(objective_f.compute_scalar(result.allx[np.argmin(result.allfun)]))\n",
    "print(np.shape(result.x), np.shape(result.allx[-1]), np.shape(result.allx))\n",
    "print(result.x)"
   ]
  },
  {
   "cell_type": "code",
   "execution_count": null,
   "id": "a283ed9c-c76a-4f35-8db8-cbed5669efd6",
   "metadata": {},
   "outputs": [],
   "source": [
    "plot_boundary(global_eq_qs, figsize=(6,6))\n",
    "plot_boozer_surface(global_eq_qs, figsize=(6,6))\n",
    "plot_3d(global_eq_qs, \"|B|\", figsize=(6,6))"
   ]
  },
  {
   "cell_type": "code",
   "execution_count": null,
   "id": "57574c5b-f54b-4a26-94eb-ec5151dad1e8",
   "metadata": {},
   "outputs": [],
   "source": [
    "objective_f.print_value(result.allx[np.argmin(result.allfun)])"
   ]
  },
  {
   "cell_type": "code",
   "execution_count": null,
   "id": "124bbc89-dd33-4b76-b614-2bb133b94971",
   "metadata": {},
   "outputs": [],
   "source": [
    "plot_boundary(eq_init, figsize=(6,6))\n",
    "plot_boozer_surface(eq_init, figsize=(6,6))\n",
    "plot_3d(eq_init, \"|B|\", figsize=(6,6))"
   ]
  },
  {
   "cell_type": "code",
   "execution_count": null,
   "id": "210cd250-644b-417e-9a08-2a2ce1ad197c",
   "metadata": {},
   "outputs": [],
   "source": []
  }
 ],
 "metadata": {
  "kernelspec": {
   "display_name": "Python 3 (ipykernel)",
   "language": "python",
   "name": "python3"
  },
  "language_info": {
   "codemirror_mode": {
    "name": "ipython",
    "version": 3
   },
   "file_extension": ".py",
   "mimetype": "text/x-python",
   "name": "python",
   "nbconvert_exporter": "python",
   "pygments_lexer": "ipython3",
   "version": "3.11.12"
  }
 },
 "nbformat": 4,
 "nbformat_minor": 5
}
