{
 "cells": [
  {
   "cell_type": "code",
   "execution_count": 1,
   "id": "fa39e1a8-c446-42e5-a3d5-a068c24d0e0f",
   "metadata": {},
   "outputs": [
    {
     "name": "stdout",
     "output_type": "stream",
     "text": [
      "DESC version 0+untagged.9463.gc6b5ccf.dirty,using JAX backend, jax version=0.4.38, jaxlib version=0.4.38, dtype=float64\n",
      "Using device: CPU, with 23.12 GB available memory\n"
     ]
    }
   ],
   "source": [
    "import numpy as np\n",
    "import matplotlib.pyplot as plt\n",
    "import desc.io\n",
    "from desc.grid import LinearGrid, ConcentricGrid\n",
    "from desc.objectives import (\n",
    "    ObjectiveFunction,\n",
    "    FixBoundaryR,\n",
    "    FixBoundaryZ,\n",
    "    FixPressure,\n",
    "    FixCurrent,\n",
    "    FixIota,\n",
    "    FixPsi,\n",
    "    AspectRatio,\n",
    "    ForceBalance,\n",
    "    QuasisymmetryTwoTerm,\n",
    "    RotationalTransform\n",
    ")\n",
    "from desc.optimize import Optimizer\n",
    "from desc.plotting import (\n",
    "    plot_grid,\n",
    "    plot_boozer_modes,\n",
    "    plot_boozer_surface,\n",
    "    plot_qs_error,\n",
    "    plot_boundaries,\n",
    "    plot_boundary,\n",
    "    plot_3d\n",
    ")\n",
    "\n",
    "from desc.equilibrium import Equilibrium\n",
    "from desc.geometry import FourierRZToroidalSurface\n",
    "from desc.profiles import PowerSeriesProfile"
   ]
  },
  {
   "cell_type": "code",
   "execution_count": 2,
   "id": "e9cb4518-1a2b-45c0-badf-e5c64af51a1b",
   "metadata": {},
   "outputs": [],
   "source": [
    "eq_fam = desc.io.load(\"inputs/nfp2_QA.h5\")\n",
    "eq_init = eq_fam[-1]\n",
    "eq_qs = eq_init.copy()"
   ]
  },
  {
   "cell_type": "code",
   "execution_count": 3,
   "id": "2b2b2998-7617-448b-a194-a20f2007fd49",
   "metadata": {},
   "outputs": [],
   "source": [
    "optimizer = Optimizer(\"lsq-exact\")\n",
    "\n",
    "grid_vol = LinearGrid(\n",
    "    M=eq_qs.M_grid,\n",
    "    N=eq_qs.N_grid,\n",
    "    NFP=eq_qs.NFP,\n",
    "    rho=np.arange(0.1,1.1,0.1),\n",
    "    sym=eq_qs.sym\n",
    ")"
   ]
  },
  {
   "cell_type": "code",
   "execution_count": 4,
   "id": "13bec8ce-778b-40bf-9f30-9533e1c317f5",
   "metadata": {},
   "outputs": [
    {
     "name": "stdout",
     "output_type": "stream",
     "text": [
      "Building objective: aspect ratio\n",
      "Precomputing transforms\n",
      "Timer: Precomputing transforms = 442 ms\n",
      "Timer: Objective build = 486 ms\n",
      "Building objective: lcfs R\n",
      "Building objective: lcfs Z\n",
      "Building objective: fixed pressure\n",
      "Building objective: fixed Psi\n",
      "Building objective: fixed current\n",
      "Building objective: self_consistency R\n",
      "Building objective: self_consistency Z\n",
      "Building objective: lambda gauge\n",
      "Building objective: axis R self consistency\n",
      "Building objective: axis Z self consistency\n",
      "Timer: Objective build = 2.88 sec\n",
      "Timer: Linear constraint projection build = 2.22 sec\n"
     ]
    },
    {
     "ename": "ValueError",
     "evalue": "operands could not be broadcast together with remapped shapes [original->remapped]: (106,)  and requested shape (363,)",
     "output_type": "error",
     "traceback": [
      "\u001b[31m---------------------------------------------------------------------------\u001b[39m",
      "\u001b[31mValueError\u001b[39m                                Traceback (most recent call last)",
      "\u001b[36mCell\u001b[39m\u001b[36m \u001b[39m\u001b[32mIn[4]\u001b[39m\u001b[32m, line 28\u001b[39m\n\u001b[32m     19\u001b[39m Zbounds = (-zub, zub)\n\u001b[32m     21\u001b[39m constraints = (\n\u001b[32m     22\u001b[39m     FixBoundaryR(eq=eq_qs, modes=fixed_R_modes),\n\u001b[32m     23\u001b[39m     FixBoundaryZ(eq=eq_qs, modes=fixed_Z_modes),\n\u001b[32m   (...)\u001b[39m\u001b[32m     26\u001b[39m     FixCurrent(eq=eq_qs),\n\u001b[32m     27\u001b[39m )    \n\u001b[32m---> \u001b[39m\u001b[32m28\u001b[39m eq_qs, result = \u001b[43meq_qs\u001b[49m\u001b[43m.\u001b[49m\u001b[43moptimize\u001b[49m\u001b[43m(\u001b[49m\n\u001b[32m     29\u001b[39m \u001b[43m    \u001b[49m\u001b[43mobjective\u001b[49m\u001b[43m=\u001b[49m\u001b[43mobjective_f\u001b[49m\u001b[43m,\u001b[49m\n\u001b[32m     30\u001b[39m \u001b[43m    \u001b[49m\u001b[43mconstraints\u001b[49m\u001b[43m=\u001b[49m\u001b[43mconstraints\u001b[49m\u001b[43m,\u001b[49m\n\u001b[32m     31\u001b[39m \u001b[43m    \u001b[49m\u001b[43moptimizer\u001b[49m\u001b[43m=\u001b[49m\u001b[43moptimizer\u001b[49m\u001b[43m,\u001b[49m\n\u001b[32m     32\u001b[39m \u001b[43m    \u001b[49m\u001b[43mcopy\u001b[49m\u001b[43m=\u001b[49m\u001b[38;5;28;43;01mTrue\u001b[39;49;00m\u001b[43m,\u001b[49m\n\u001b[32m     33\u001b[39m \u001b[43m    \u001b[49m\u001b[43mx_scale\u001b[49m\u001b[43m \u001b[49m\u001b[43m=\u001b[49m\u001b[43m \u001b[49m\u001b[43mnp\u001b[49m\u001b[43m.\u001b[49m\u001b[43mones\u001b[49m\u001b[43m(\u001b[49m\u001b[32;43m106\u001b[39;49m\u001b[43m)\u001b[49m\u001b[43m,\u001b[49m\n\u001b[32m     34\u001b[39m \u001b[43m    \u001b[49m\u001b[43mverbose\u001b[49m\u001b[43m=\u001b[49m\u001b[32;43m2\u001b[39;49m\u001b[43m,\u001b[49m\n\u001b[32m     35\u001b[39m \u001b[43m    \u001b[49m\u001b[43mmaxiter\u001b[49m\u001b[43m=\u001b[49m\u001b[32;43m20\u001b[39;49m\u001b[43m,\u001b[49m\n\u001b[32m     36\u001b[39m \u001b[43m    \u001b[49m\u001b[43moptions\u001b[49m\u001b[43m=\u001b[49m\u001b[43m{\u001b[49m\u001b[43m}\u001b[49m\n\u001b[32m     37\u001b[39m \u001b[43m\u001b[49m\u001b[43m)\u001b[49m\n",
      "\u001b[36mFile \u001b[39m\u001b[32m~/mason_desc_branch/DESC/desc/equilibrium/equilibrium.py:2137\u001b[39m, in \u001b[36mEquilibrium.optimize\u001b[39m\u001b[34m(self, objective, constraints, optimizer, ftol, xtol, gtol, ctol, maxiter, x_scale, options, verbose, copy)\u001b[39m\n\u001b[32m   2134\u001b[39m \u001b[38;5;28;01mif\u001b[39;00m \u001b[38;5;129;01mnot\u001b[39;00m \u001b[38;5;28misinstance\u001b[39m(constraints, (\u001b[38;5;28mlist\u001b[39m, \u001b[38;5;28mtuple\u001b[39m)):\n\u001b[32m   2135\u001b[39m     constraints = \u001b[38;5;28mtuple\u001b[39m([constraints])\n\u001b[32m-> \u001b[39m\u001b[32m2137\u001b[39m things, result = \u001b[43moptimizer\u001b[49m\u001b[43m.\u001b[49m\u001b[43moptimize\u001b[49m\u001b[43m(\u001b[49m\n\u001b[32m   2138\u001b[39m \u001b[43m    \u001b[49m\u001b[38;5;28;43mself\u001b[39;49m\u001b[43m,\u001b[49m\n\u001b[32m   2139\u001b[39m \u001b[43m    \u001b[49m\u001b[43mobjective\u001b[49m\u001b[43m,\u001b[49m\n\u001b[32m   2140\u001b[39m \u001b[43m    \u001b[49m\u001b[43mconstraints\u001b[49m\u001b[43m,\u001b[49m\n\u001b[32m   2141\u001b[39m \u001b[43m    \u001b[49m\u001b[43mftol\u001b[49m\u001b[43m=\u001b[49m\u001b[43mftol\u001b[49m\u001b[43m,\u001b[49m\n\u001b[32m   2142\u001b[39m \u001b[43m    \u001b[49m\u001b[43mxtol\u001b[49m\u001b[43m=\u001b[49m\u001b[43mxtol\u001b[49m\u001b[43m,\u001b[49m\n\u001b[32m   2143\u001b[39m \u001b[43m    \u001b[49m\u001b[43mgtol\u001b[49m\u001b[43m=\u001b[49m\u001b[43mgtol\u001b[49m\u001b[43m,\u001b[49m\n\u001b[32m   2144\u001b[39m \u001b[43m    \u001b[49m\u001b[43mctol\u001b[49m\u001b[43m=\u001b[49m\u001b[43mctol\u001b[49m\u001b[43m,\u001b[49m\n\u001b[32m   2145\u001b[39m \u001b[43m    \u001b[49m\u001b[43mx_scale\u001b[49m\u001b[43m=\u001b[49m\u001b[43mx_scale\u001b[49m\u001b[43m,\u001b[49m\n\u001b[32m   2146\u001b[39m \u001b[43m    \u001b[49m\u001b[43mverbose\u001b[49m\u001b[43m=\u001b[49m\u001b[43mverbose\u001b[49m\u001b[43m,\u001b[49m\n\u001b[32m   2147\u001b[39m \u001b[43m    \u001b[49m\u001b[43mmaxiter\u001b[49m\u001b[43m=\u001b[49m\u001b[43mmaxiter\u001b[49m\u001b[43m,\u001b[49m\n\u001b[32m   2148\u001b[39m \u001b[43m    \u001b[49m\u001b[43moptions\u001b[49m\u001b[43m=\u001b[49m\u001b[43moptions\u001b[49m\u001b[43m,\u001b[49m\n\u001b[32m   2149\u001b[39m \u001b[43m    \u001b[49m\u001b[43mcopy\u001b[49m\u001b[43m=\u001b[49m\u001b[43mcopy\u001b[49m\u001b[43m,\u001b[49m\n\u001b[32m   2150\u001b[39m \u001b[43m\u001b[49m\u001b[43m)\u001b[49m\n\u001b[32m   2152\u001b[39m \u001b[38;5;28;01mreturn\u001b[39;00m things[\u001b[32m0\u001b[39m], result\n",
      "\u001b[36mFile \u001b[39m\u001b[32m~/mason_desc_branch/DESC/desc/optimize/optimizer.py:254\u001b[39m, in \u001b[36mOptimizer.optimize\u001b[39m\u001b[34m(self, things, objective, constraints, ftol, xtol, gtol, ctol, x_scale, verbose, maxiter, options, copy)\u001b[39m\n\u001b[32m    251\u001b[39m \u001b[38;5;28;01mif\u001b[39;00m linear_constraint \u001b[38;5;129;01mis\u001b[39;00m \u001b[38;5;129;01mnot\u001b[39;00m \u001b[38;5;28;01mNone\u001b[39;00m \u001b[38;5;129;01mand\u001b[39;00m \u001b[38;5;129;01mnot\u001b[39;00m \u001b[38;5;28misinstance\u001b[39m(x_scale, \u001b[38;5;28mstr\u001b[39m):\n\u001b[32m    252\u001b[39m     \u001b[38;5;66;03m# need to project x_scale down to correct size\u001b[39;00m\n\u001b[32m    253\u001b[39m     Z = objective._Z\n\u001b[32m--> \u001b[39m\u001b[32m254\u001b[39m     x_scale = \u001b[43mnp\u001b[49m\u001b[43m.\u001b[49m\u001b[43mbroadcast_to\u001b[49m\u001b[43m(\u001b[49m\u001b[43mx_scale\u001b[49m\u001b[43m,\u001b[49m\u001b[43m \u001b[49m\u001b[43mobjective\u001b[49m\u001b[43m.\u001b[49m\u001b[43m_objective\u001b[49m\u001b[43m.\u001b[49m\u001b[43mdim_x\u001b[49m\u001b[43m)\u001b[49m\n\u001b[32m    255\u001b[39m     x_scale = np.abs(\n\u001b[32m    256\u001b[39m         np.diag(Z.T @ np.diag(x_scale[objective._unfixed_idx]) @ Z)\n\u001b[32m    257\u001b[39m     )\n\u001b[32m    258\u001b[39m     x_scale = np.where(x_scale < np.finfo(x_scale.dtype).eps, \u001b[32m1\u001b[39m, x_scale)\n",
      "\u001b[36mFile \u001b[39m\u001b[32m/opt/miniconda3/envs/mason_env/lib/python3.11/site-packages/numpy/lib/stride_tricks.py:413\u001b[39m, in \u001b[36mbroadcast_to\u001b[39m\u001b[34m(array, shape, subok)\u001b[39m\n\u001b[32m    367\u001b[39m \u001b[38;5;129m@array_function_dispatch\u001b[39m(_broadcast_to_dispatcher, module=\u001b[33m'\u001b[39m\u001b[33mnumpy\u001b[39m\u001b[33m'\u001b[39m)\n\u001b[32m    368\u001b[39m \u001b[38;5;28;01mdef\u001b[39;00m\u001b[38;5;250m \u001b[39m\u001b[34mbroadcast_to\u001b[39m(array, shape, subok=\u001b[38;5;28;01mFalse\u001b[39;00m):\n\u001b[32m    369\u001b[39m \u001b[38;5;250m    \u001b[39m\u001b[33;03m\"\"\"Broadcast an array to a new shape.\u001b[39;00m\n\u001b[32m    370\u001b[39m \n\u001b[32m    371\u001b[39m \u001b[33;03m    Parameters\u001b[39;00m\n\u001b[32m   (...)\u001b[39m\u001b[32m    411\u001b[39m \u001b[33;03m           [1, 2, 3]])\u001b[39;00m\n\u001b[32m    412\u001b[39m \u001b[33;03m    \"\"\"\u001b[39;00m\n\u001b[32m--> \u001b[39m\u001b[32m413\u001b[39m     \u001b[38;5;28;01mreturn\u001b[39;00m \u001b[43m_broadcast_to\u001b[49m\u001b[43m(\u001b[49m\u001b[43marray\u001b[49m\u001b[43m,\u001b[49m\u001b[43m \u001b[49m\u001b[43mshape\u001b[49m\u001b[43m,\u001b[49m\u001b[43m \u001b[49m\u001b[43msubok\u001b[49m\u001b[43m=\u001b[49m\u001b[43msubok\u001b[49m\u001b[43m,\u001b[49m\u001b[43m \u001b[49m\u001b[43mreadonly\u001b[49m\u001b[43m=\u001b[49m\u001b[38;5;28;43;01mTrue\u001b[39;49;00m\u001b[43m)\u001b[49m\n",
      "\u001b[36mFile \u001b[39m\u001b[32m/opt/miniconda3/envs/mason_env/lib/python3.11/site-packages/numpy/lib/stride_tricks.py:349\u001b[39m, in \u001b[36m_broadcast_to\u001b[39m\u001b[34m(array, shape, subok, readonly)\u001b[39m\n\u001b[32m    346\u001b[39m     \u001b[38;5;28;01mraise\u001b[39;00m \u001b[38;5;167;01mValueError\u001b[39;00m(\u001b[33m'\u001b[39m\u001b[33mall elements of broadcast shape must be non-\u001b[39m\u001b[33m'\u001b[39m\n\u001b[32m    347\u001b[39m                      \u001b[33m'\u001b[39m\u001b[33mnegative\u001b[39m\u001b[33m'\u001b[39m)\n\u001b[32m    348\u001b[39m extras = []\n\u001b[32m--> \u001b[39m\u001b[32m349\u001b[39m it = \u001b[43mnp\u001b[49m\u001b[43m.\u001b[49m\u001b[43mnditer\u001b[49m\u001b[43m(\u001b[49m\n\u001b[32m    350\u001b[39m \u001b[43m    \u001b[49m\u001b[43m(\u001b[49m\u001b[43marray\u001b[49m\u001b[43m,\u001b[49m\u001b[43m)\u001b[49m\u001b[43m,\u001b[49m\u001b[43m \u001b[49m\u001b[43mflags\u001b[49m\u001b[43m=\u001b[49m\u001b[43m[\u001b[49m\u001b[33;43m'\u001b[39;49m\u001b[33;43mmulti_index\u001b[39;49m\u001b[33;43m'\u001b[39;49m\u001b[43m,\u001b[49m\u001b[43m \u001b[49m\u001b[33;43m'\u001b[39;49m\u001b[33;43mrefs_ok\u001b[39;49m\u001b[33;43m'\u001b[39;49m\u001b[43m,\u001b[49m\u001b[43m \u001b[49m\u001b[33;43m'\u001b[39;49m\u001b[33;43mzerosize_ok\u001b[39;49m\u001b[33;43m'\u001b[39;49m\u001b[43m]\u001b[49m\u001b[43m \u001b[49m\u001b[43m+\u001b[49m\u001b[43m \u001b[49m\u001b[43mextras\u001b[49m\u001b[43m,\u001b[49m\n\u001b[32m    351\u001b[39m \u001b[43m    \u001b[49m\u001b[43mop_flags\u001b[49m\u001b[43m=\u001b[49m\u001b[43m[\u001b[49m\u001b[33;43m'\u001b[39;49m\u001b[33;43mreadonly\u001b[39;49m\u001b[33;43m'\u001b[39;49m\u001b[43m]\u001b[49m\u001b[43m,\u001b[49m\u001b[43m \u001b[49m\u001b[43mitershape\u001b[49m\u001b[43m=\u001b[49m\u001b[43mshape\u001b[49m\u001b[43m,\u001b[49m\u001b[43m \u001b[49m\u001b[43morder\u001b[49m\u001b[43m=\u001b[49m\u001b[33;43m'\u001b[39;49m\u001b[33;43mC\u001b[39;49m\u001b[33;43m'\u001b[39;49m\u001b[43m)\u001b[49m\n\u001b[32m    352\u001b[39m \u001b[38;5;28;01mwith\u001b[39;00m it:\n\u001b[32m    353\u001b[39m     \u001b[38;5;66;03m# never really has writebackifcopy semantics\u001b[39;00m\n\u001b[32m    354\u001b[39m     broadcast = it.itviews[\u001b[32m0\u001b[39m]\n",
      "\u001b[31mValueError\u001b[39m: operands could not be broadcast together with remapped shapes [original->remapped]: (106,)  and requested shape (363,)"
     ]
    }
   ],
   "source": [
    "for maxMode in range(1,2):\n",
    "    fixed_R_modes = np.vstack(([0,0,0], eq_qs.surface.R_basis.modes[np.max(np.abs(eq_qs.surface.R_basis.modes), 1) > maxMode, :]))\n",
    "    free_R_modes = eq_qs.surface.R_basis.modes[np.max(np.abs(eq_qs.surface.R_basis.modes), 1) <= maxMode, :]\n",
    "    free_R_modes = free_R_modes[np.max(np.abs(free_R_modes), 1) > 0, :]\n",
    "    \n",
    "    fixed_Z_modes = eq_qs.surface.Z_basis.modes[np.max(np.abs(eq_qs.surface.Z_basis.modes), 1) > maxMode, :]\n",
    "    free_Z_modes = eq_qs.surface.Z_basis.modes[np.max(np.abs(eq_qs.surface.Z_basis.modes), 1) <= maxMode, :]\n",
    "    constWeight = 10\n",
    "    \n",
    "    objective_f = ObjectiveFunction((\n",
    "        AspectRatio(eq=eq_qs, target=6, weight=1)\n",
    "    ))\n",
    "\n",
    "    numRbounds = len(free_R_modes)\n",
    "    numZbounds = len(free_Z_modes)\n",
    "    rub = np.ones(numRbounds)\n",
    "    zub = np.ones(numZbounds)\n",
    "    Rbounds = (-rub, rub)\n",
    "    Zbounds = (-zub, zub)\n",
    "    \n",
    "    constraints = (\n",
    "        FixBoundaryR(eq=eq_qs, modes=fixed_R_modes),\n",
    "        FixBoundaryZ(eq=eq_qs, modes=fixed_Z_modes),\n",
    "        FixPressure(eq=eq_qs),  # fix pressure profile\n",
    "        FixPsi(eq=eq_qs),\n",
    "        FixCurrent(eq=eq_qs),\n",
    "    )    \n",
    "    eq_qs, result = eq_qs.optimize(\n",
    "        objective=objective_f,\n",
    "        constraints=constraints,\n",
    "        optimizer=optimizer,\n",
    "        copy=True,\n",
    "        x_scale = np.ones(106),\n",
    "        verbose=2,\n",
    "        maxiter=20,\n",
    "        options={}\n",
    "    )\n"
   ]
  },
  {
   "cell_type": "code",
   "execution_count": null,
   "id": "0af88db5-5753-4970-a5d5-b0126c88ce69",
   "metadata": {},
   "outputs": [],
   "source": [
    "print(result.x.shape, result.allx[-1].shape)\n",
    "print(np.max(np.abs(result.allx[-1] - result.allx[0])))\n",
    "print(np.mean(np.abs(result.allx[-1] - result.allx[0])))\n",
    "print(objective_f.compute_scalar(result.allx[-1]))\n",
    "print(result.allx[-1][np.abs(result.allx[-1]) > 1e-6])\n",
    "x_temp = np.array(result.allx[-1].copy())\n",
    "x_temp[np.abs(x_temp) < 1e-6] = 0.0\n",
    "# x_temp[:120] = 0.0\n",
    "print(x_temp)\n",
    "print(objective_f.compute_scalar(x_temp))"
   ]
  },
  {
   "cell_type": "code",
   "execution_count": null,
   "id": "017b90ce-cf68-4faf-b73d-5d3c064c4a24",
   "metadata": {
    "scrolled": true
   },
   "outputs": [],
   "source": [
    "plot_boundary(eq_qs, figsize=(6,6))\n",
    "plot_boozer_surface(eq_qs, figsize=(6,6))\n",
    "plot_3d(eq_qs, \"|B|\", figsize=(6,6))"
   ]
  },
  {
   "cell_type": "code",
   "execution_count": null,
   "id": "b92030db-8777-46b0-b6c3-5cdf9ae7919f",
   "metadata": {
    "scrolled": true
   },
   "outputs": [],
   "source": [
    "eq_qs = eq_init.copy()\n",
    "objective_f = ObjectiveFunction((AspectRatio(eq=eq_qs, target=6, weight=1)))\n",
    "\n",
    "optimizer = Optimizer(\"Turbo1\")\n",
    "\n",
    "for maxMode in range(1,2):\n",
    "    fixed_R_modes = np.vstack(([0,0,0], eq_qs.surface.R_basis.modes[np.max(np.abs(eq_qs.surface.R_basis.modes), 1) > maxMode, :]))\n",
    "    free_R_modes = eq_qs.surface.R_basis.modes[np.max(np.abs(eq_qs.surface.R_basis.modes), 1) <= maxMode, :]\n",
    "    free_R_modes = free_R_modes[np.max(np.abs(free_R_modes), 1) > 0, :]\n",
    "    \n",
    "    fixed_Z_modes = eq_qs.surface.Z_basis.modes[np.max(np.abs(eq_qs.surface.Z_basis.modes), 1) > maxMode, :]\n",
    "    free_Z_modes = eq_qs.surface.Z_basis.modes[np.max(np.abs(eq_qs.surface.Z_basis.modes), 1) <= maxMode, :]\n",
    "    constWeight = 10\n",
    "    numRbounds = len(free_R_modes)\n",
    "    numZbounds = len(free_Z_modes)\n",
    "    rub = np.ones(numRbounds)\n",
    "    zub = np.ones(numZbounds)\n",
    "    Rbounds = (-rub, rub)\n",
    "    Zbounds = (-zub, zub)\n",
    "    \n",
    "    constraints = (\n",
    "        FixBoundaryR(eq=eq_qs, modes=fixed_R_modes),\n",
    "        FixBoundaryZ(eq=eq_qs, modes=fixed_Z_modes),\n",
    "        FixPressure(eq=eq_qs),  # fix pressure profile\n",
    "        FixPsi(eq=eq_qs),\n",
    "        FixCurrent(eq=eq_qs),\n",
    "    )    \n",
    "    global_eq_qs, result = eq_qs.optimize(\n",
    "        objective=objective_f,\n",
    "        # constraints=constraints,\n",
    "        optimizer=optimizer,\n",
    "        copy=True,\n",
    "        x_scale = np.ones(106),\n",
    "        verbose=2,\n",
    "        maxiter=10000,\n",
    "        options={\"trust_regions\":1, \"box_size\":1e-5, \"training_steps\": 500, \"batch_size\":200}\n",
    "    )"
   ]
  },
  {
   "cell_type": "code",
   "execution_count": null,
   "id": "eaad8565-b4be-4e2c-bdf1-582d32a9bfd7",
   "metadata": {},
   "outputs": [],
   "source": [
    "print(objective_f.compute_scalar(result.allx[np.argmin(result.allfun)]))\n",
    "print(np.shape(result.x), np.shape(result.allx[-1]), np.shape(result.allx))\n",
    "print(result.x)"
   ]
  },
  {
   "cell_type": "code",
   "execution_count": null,
   "id": "a283ed9c-c76a-4f35-8db8-cbed5669efd6",
   "metadata": {},
   "outputs": [],
   "source": [
    "plot_boundary(global_eq_qs, figsize=(6,6))\n",
    "plot_boozer_surface(global_eq_qs, figsize=(6,6))\n",
    "plot_3d(global_eq_qs, \"|B|\", figsize=(6,6))"
   ]
  },
  {
   "cell_type": "code",
   "execution_count": null,
   "id": "57574c5b-f54b-4a26-94eb-ec5151dad1e8",
   "metadata": {},
   "outputs": [],
   "source": [
    "objective_f.print_value(result.allx[np.argmin(result.allfun)])"
   ]
  },
  {
   "cell_type": "code",
   "execution_count": null,
   "id": "124bbc89-dd33-4b76-b614-2bb133b94971",
   "metadata": {},
   "outputs": [],
   "source": [
    "plot_boundary(eq_init, figsize=(6,6))\n",
    "plot_boozer_surface(eq_init, figsize=(6,6))\n",
    "plot_3d(eq_init, \"|B|\", figsize=(6,6))"
   ]
  },
  {
   "cell_type": "code",
   "execution_count": null,
   "id": "210cd250-644b-417e-9a08-2a2ce1ad197c",
   "metadata": {},
   "outputs": [],
   "source": []
  }
 ],
 "metadata": {
  "kernelspec": {
   "display_name": "Python 3 (ipykernel)",
   "language": "python",
   "name": "python3"
  },
  "language_info": {
   "codemirror_mode": {
    "name": "ipython",
    "version": 3
   },
   "file_extension": ".py",
   "mimetype": "text/x-python",
   "name": "python",
   "nbconvert_exporter": "python",
   "pygments_lexer": "ipython3",
   "version": "3.11.12"
  }
 },
 "nbformat": 4,
 "nbformat_minor": 5
}
